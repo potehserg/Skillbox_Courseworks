{
 "cells": [
  {
   "cell_type": "markdown",
   "metadata": {
    "id": "BBv-oIFLVYRz"
   },
   "source": [
    "# Курсовая работа. Блок ML Beginner\n",
    "<br>\n",
    "\n",
    "**NB!** Код должен быть с комментариями к каждому логическому блоку кода. В противном случае работа **не** будет принята. <br><br>\n",
    "Выполнение курсовой работы может потребовать использование дополнительных библиотек. Может потребоваться предварительная обработка данных.\n",
    "\n",
    "<br><br>\n",
    "**Описание работы:**\n",
    "&nbsp;&nbsp;&nbsp;&nbsp;\n",
    "<br><br>\n",
    "&nbsp;&nbsp;&nbsp;&nbsp; Любой бизнес хочет максимизировать количество клиентов. Для достижения этой цели важно не только пытаться привлечь новых, но и удерживать уже существующих. Удержать клиента обойдется компании дешевле, чем привлечь нового. Кроме того, новый клиент может оказаться слабо заинтересованным в услугах бизнеса и с ним будет сложно работать, тогда как о старых клиентах уже есть необходимые данные по взаимодействию с сервисом. \n",
    " <br>\n",
    "\n",
    "&nbsp;&nbsp;&nbsp;&nbsp; Соответственно, прогнозируя отток, мы можем вовремя среагировать и попытаться удержать клиента, который хочет уйти. Опираясь на данные об услугах, которыми пользуется клиент, мы можем сделать ему специальное предложение, пытаясь изменить его решение об уходе от оператора. Благодаря этому задача удержания будет легче в реализации, чем задача привлечения новых пользователей, о которых мы еще ничего не знаем.<br>\n",
    "\n",
    "&nbsp;&nbsp;&nbsp;&nbsp; Вам предоставлен набор данных от телекоммуникационной компании. В данных содержится информация о почти шести тысячах пользователей, их демографических характеристиках, услугах, которыми они пользуются, длительности пользования услугами оператора, методе оплаты, размере оплаты. \n",
    "<br>\n",
    "\n",
    "&nbsp;&nbsp;&nbsp;&nbsp; Cтоит задача проанализировать данные и спрогнозировать отток пользователей (выявить людей, которые продлят контракт и которые не продлят). Работа должна включать в себя следующие обязательные пункты: \n",
    "1. Описание данных *(с расчетом базовых статистик)*, \n",
    "2. Исследование зависимостей и формулирование гипотез, \n",
    "3. Построение моделей для прогнозирования оттока *(с обоснованием выбора той или иной модели)* на основе проверенных гипотез и выявленных взаимосвязей, \n",
    "4. Сравнение качества полученных моделей. \n",
    "\n",
    "Во втором разделе обязательно должно присутствовать обоснование гипотез, подробное описание выявленных взаимосвязей, а также их визуализация. \n",
    "<br>В четвертом дополнительно должны быть сформулированы общие выводы работы.\n",
    "\n",
    "<br><br>\n",
    "\n",
    "_________\n",
    "\n",
    "[Codebook](#Codebook) <br>\n",
    "[1. Описание данных](#1.-Описание-данных)<br>\n",
    "[2. Исследование зависимостей и формулирование гипотез](#2.-Исследование-зависимостей-и-формулирование-гипотез)<br>\n",
    "[3. Построение моделей для прогнозирования оттока](#3.-Построение-моделей-для-прогнозирования-оттока)<br>\n",
    "[4. Сравнение качества моделей](#4.-Сравнение-качества-моделей) <br>\n"
   ]
  },
  {
   "cell_type": "markdown",
   "metadata": {
    "id": "2Eh64LGP5deL"
   },
   "source": []
  },
  {
   "cell_type": "markdown",
   "metadata": {
    "id": "uZY64JwzVYR6"
   },
   "source": [
    "## Codebook\n",
    "<br>\n",
    "\n",
    "[Ссылка для скачивания данных](https://drive.google.com/open?id=1dPCG76ST6NohYKtVMGv6HpFL-jD5p1eJ) \n",
    "<br><br>\n",
    "\n",
    "`telecom_users.csv` содержит следующие значения:<br><br>\n",
    "\n",
    "&nbsp;&nbsp;&nbsp;&nbsp; `customerID` – id клиента<br>\n",
    "&nbsp;&nbsp;&nbsp;&nbsp; `gender` – пол клиента (male/female)<br>\n",
    "&nbsp;&nbsp;&nbsp;&nbsp; `SeniorCitizen` – яляется ли клиент пенсионером (1, 0)<br>\n",
    "&nbsp;&nbsp;&nbsp;&nbsp; `Partner` – состоит ли клиент в браке (Yes, No)<br>\n",
    "&nbsp;&nbsp;&nbsp;&nbsp; `Dependents` – есть ли у клиента иждивенцы (Yes, No)<br>\n",
    "&nbsp;&nbsp;&nbsp;&nbsp; `tenure` – сколько месяцев человек являлся клиентом компании<br>\n",
    "&nbsp;&nbsp;&nbsp;&nbsp; `PhoneService` – подключена ли услуга телефонной связи (Yes, No)<br>\n",
    "&nbsp;&nbsp;&nbsp;&nbsp; `MultipleLines` – подключены ли несколько телефонных линий (Yes, No, No phone service)<br>\n",
    "&nbsp;&nbsp;&nbsp;&nbsp; `InternetService` – интернет-провайдер клиента (DSL, Fiber optic, No)<br>\n",
    "&nbsp;&nbsp;&nbsp;&nbsp; `OnlineSecurity` – подключена ли услуга онлайн-безопасности (Yes, No, No internet service)<br>\n",
    "&nbsp;&nbsp;&nbsp;&nbsp; `OnlineBackup` – подключена ли услуга online backup (Yes, No, No internet service)<br>\n",
    "&nbsp;&nbsp;&nbsp;&nbsp; `DeviceProtection` – есть ли у клиента страховка оборудования (Yes, No, No internet service)<br>\n",
    "&nbsp;&nbsp;&nbsp;&nbsp; `TechSupport` – подключена ли услуга технической поддержки (Yes, No, No internet service)<br>\n",
    "&nbsp;&nbsp;&nbsp;&nbsp; `StreamingTV` – подключена ли услуга стримингового телевидения (Yes, No, No internet service)<br>\n",
    "&nbsp;&nbsp;&nbsp;&nbsp; `StreamingMovies` – подключена ли услуга стримингового кинотеатра (Yes, No, No internet service)<br>\n",
    "&nbsp;&nbsp;&nbsp;&nbsp; `Contract` – тип контракта клиента (Month-to-month, One year, Two year)<br>\n",
    "&nbsp;&nbsp;&nbsp;&nbsp; `PaperlessBilling` – пользуется ли клиент безбумажным биллингом (Yes, No)<br>\n",
    "&nbsp;&nbsp;&nbsp;&nbsp; `PaymentMethod` – метод оплаты (Electronic check, Mailed check, Bank transfer (automatic), Credit card (automatic))<br>\n",
    "&nbsp;&nbsp;&nbsp;&nbsp; `MonthlyCharges` – месячный размер оплаты на настоящий момент<br>\n",
    "&nbsp;&nbsp;&nbsp;&nbsp; `TotalCharges` – общая сумма, которую клиент заплатил за услуги за все время<br>\n",
    "&nbsp;&nbsp;&nbsp;&nbsp; `Churn` – произошел ли отток (Yes or No)<br>"
   ]
  },
  {
   "cell_type": "markdown",
   "metadata": {
    "id": "sIRCLuWGVYR9"
   },
   "source": [
    "# 1. Описание данных"
   ]
  },
  {
   "cell_type": "markdown",
   "metadata": {
    "id": "E0cDVNu0lIC1"
   },
   "source": [
    "Сделаем импорт всех необходимых библиотек для анализа и визуализации данных"
   ]
  },
  {
   "cell_type": "code",
   "execution_count": 1,
   "metadata": {
    "id": "s0fDRVkgVYSA"
   },
   "outputs": [],
   "source": [
    "import pandas as pd\n",
    "import numpy as np\n",
    "import seaborn as sns\n",
    "import matplotlib.pyplot as plt\n",
    "plt.style.use('seaborn')\n",
    "%matplotlib inline\n",
    "import warnings\n",
    "warnings.filterwarnings('ignore')"
   ]
  },
  {
   "cell_type": "markdown",
   "metadata": {
    "id": "R6EjHx35lW02"
   },
   "source": [
    "Загрузим данные и выведем первые пять строк датасета.\n",
    "\n",
    "Создадим копию, которую будем использовать для подготовки данных к обучению. "
   ]
  },
  {
   "cell_type": "code",
   "execution_count": 2,
   "metadata": {
    "id": "zDWOXTAEeN2M"
   },
   "outputs": [],
   "source": [
    "#Работа выполнялась в google colab\n",
    "# from google.colab import files\n",
    "# files.upload()"
   ]
  },
  {
   "cell_type": "code",
   "execution_count": 3,
   "metadata": {
    "colab": {
     "base_uri": "https://localhost:8080/",
     "height": 305
    },
    "id": "FZRVcpj06fAF",
    "outputId": "a42020fa-b9f3-4546-f58b-4a3f09b7b36b"
   },
   "outputs": [
    {
     "data": {
      "text/html": [
       "<div>\n",
       "<style scoped>\n",
       "    .dataframe tbody tr th:only-of-type {\n",
       "        vertical-align: middle;\n",
       "    }\n",
       "\n",
       "    .dataframe tbody tr th {\n",
       "        vertical-align: top;\n",
       "    }\n",
       "\n",
       "    .dataframe thead th {\n",
       "        text-align: right;\n",
       "    }\n",
       "</style>\n",
       "<table border=\"1\" class=\"dataframe\">\n",
       "  <thead>\n",
       "    <tr style=\"text-align: right;\">\n",
       "      <th></th>\n",
       "      <th>customerID</th>\n",
       "      <th>gender</th>\n",
       "      <th>SeniorCitizen</th>\n",
       "      <th>Partner</th>\n",
       "      <th>Dependents</th>\n",
       "      <th>tenure</th>\n",
       "      <th>PhoneService</th>\n",
       "      <th>MultipleLines</th>\n",
       "      <th>InternetService</th>\n",
       "      <th>OnlineSecurity</th>\n",
       "      <th>...</th>\n",
       "      <th>DeviceProtection</th>\n",
       "      <th>TechSupport</th>\n",
       "      <th>StreamingTV</th>\n",
       "      <th>StreamingMovies</th>\n",
       "      <th>Contract</th>\n",
       "      <th>PaperlessBilling</th>\n",
       "      <th>PaymentMethod</th>\n",
       "      <th>MonthlyCharges</th>\n",
       "      <th>TotalCharges</th>\n",
       "      <th>Churn</th>\n",
       "    </tr>\n",
       "  </thead>\n",
       "  <tbody>\n",
       "    <tr>\n",
       "      <th>0</th>\n",
       "      <td>7590-VHVEG</td>\n",
       "      <td>Female</td>\n",
       "      <td>0</td>\n",
       "      <td>Yes</td>\n",
       "      <td>No</td>\n",
       "      <td>1</td>\n",
       "      <td>No</td>\n",
       "      <td>No phone service</td>\n",
       "      <td>DSL</td>\n",
       "      <td>No</td>\n",
       "      <td>...</td>\n",
       "      <td>No</td>\n",
       "      <td>No</td>\n",
       "      <td>No</td>\n",
       "      <td>No</td>\n",
       "      <td>Month-to-month</td>\n",
       "      <td>Yes</td>\n",
       "      <td>Electronic check</td>\n",
       "      <td>29.85</td>\n",
       "      <td>29.85</td>\n",
       "      <td>No</td>\n",
       "    </tr>\n",
       "    <tr>\n",
       "      <th>1</th>\n",
       "      <td>5575-GNVDE</td>\n",
       "      <td>Male</td>\n",
       "      <td>0</td>\n",
       "      <td>No</td>\n",
       "      <td>No</td>\n",
       "      <td>34</td>\n",
       "      <td>Yes</td>\n",
       "      <td>No</td>\n",
       "      <td>DSL</td>\n",
       "      <td>Yes</td>\n",
       "      <td>...</td>\n",
       "      <td>Yes</td>\n",
       "      <td>No</td>\n",
       "      <td>No</td>\n",
       "      <td>No</td>\n",
       "      <td>One year</td>\n",
       "      <td>No</td>\n",
       "      <td>Mailed check</td>\n",
       "      <td>56.95</td>\n",
       "      <td>1889.5</td>\n",
       "      <td>No</td>\n",
       "    </tr>\n",
       "    <tr>\n",
       "      <th>2</th>\n",
       "      <td>3668-QPYBK</td>\n",
       "      <td>Male</td>\n",
       "      <td>0</td>\n",
       "      <td>No</td>\n",
       "      <td>No</td>\n",
       "      <td>2</td>\n",
       "      <td>Yes</td>\n",
       "      <td>No</td>\n",
       "      <td>DSL</td>\n",
       "      <td>Yes</td>\n",
       "      <td>...</td>\n",
       "      <td>No</td>\n",
       "      <td>No</td>\n",
       "      <td>No</td>\n",
       "      <td>No</td>\n",
       "      <td>Month-to-month</td>\n",
       "      <td>Yes</td>\n",
       "      <td>Mailed check</td>\n",
       "      <td>53.85</td>\n",
       "      <td>108.15</td>\n",
       "      <td>Yes</td>\n",
       "    </tr>\n",
       "    <tr>\n",
       "      <th>3</th>\n",
       "      <td>7795-CFOCW</td>\n",
       "      <td>Male</td>\n",
       "      <td>0</td>\n",
       "      <td>No</td>\n",
       "      <td>No</td>\n",
       "      <td>45</td>\n",
       "      <td>No</td>\n",
       "      <td>No phone service</td>\n",
       "      <td>DSL</td>\n",
       "      <td>Yes</td>\n",
       "      <td>...</td>\n",
       "      <td>Yes</td>\n",
       "      <td>Yes</td>\n",
       "      <td>No</td>\n",
       "      <td>No</td>\n",
       "      <td>One year</td>\n",
       "      <td>No</td>\n",
       "      <td>Bank transfer (automatic)</td>\n",
       "      <td>42.30</td>\n",
       "      <td>1840.75</td>\n",
       "      <td>No</td>\n",
       "    </tr>\n",
       "    <tr>\n",
       "      <th>4</th>\n",
       "      <td>9237-HQITU</td>\n",
       "      <td>Female</td>\n",
       "      <td>0</td>\n",
       "      <td>No</td>\n",
       "      <td>No</td>\n",
       "      <td>2</td>\n",
       "      <td>Yes</td>\n",
       "      <td>No</td>\n",
       "      <td>Fiber optic</td>\n",
       "      <td>No</td>\n",
       "      <td>...</td>\n",
       "      <td>No</td>\n",
       "      <td>No</td>\n",
       "      <td>No</td>\n",
       "      <td>No</td>\n",
       "      <td>Month-to-month</td>\n",
       "      <td>Yes</td>\n",
       "      <td>Electronic check</td>\n",
       "      <td>70.70</td>\n",
       "      <td>151.65</td>\n",
       "      <td>Yes</td>\n",
       "    </tr>\n",
       "  </tbody>\n",
       "</table>\n",
       "<p>5 rows × 21 columns</p>\n",
       "</div>"
      ],
      "text/plain": [
       "   customerID  gender  SeniorCitizen Partner Dependents  tenure PhoneService  \\\n",
       "0  7590-VHVEG  Female              0     Yes         No       1           No   \n",
       "1  5575-GNVDE    Male              0      No         No      34          Yes   \n",
       "2  3668-QPYBK    Male              0      No         No       2          Yes   \n",
       "3  7795-CFOCW    Male              0      No         No      45           No   \n",
       "4  9237-HQITU  Female              0      No         No       2          Yes   \n",
       "\n",
       "      MultipleLines InternetService OnlineSecurity  ... DeviceProtection  \\\n",
       "0  No phone service             DSL             No  ...               No   \n",
       "1                No             DSL            Yes  ...              Yes   \n",
       "2                No             DSL            Yes  ...               No   \n",
       "3  No phone service             DSL            Yes  ...              Yes   \n",
       "4                No     Fiber optic             No  ...               No   \n",
       "\n",
       "  TechSupport StreamingTV StreamingMovies        Contract PaperlessBilling  \\\n",
       "0          No          No              No  Month-to-month              Yes   \n",
       "1          No          No              No        One year               No   \n",
       "2          No          No              No  Month-to-month              Yes   \n",
       "3         Yes          No              No        One year               No   \n",
       "4          No          No              No  Month-to-month              Yes   \n",
       "\n",
       "               PaymentMethod MonthlyCharges  TotalCharges Churn  \n",
       "0           Electronic check          29.85         29.85    No  \n",
       "1               Mailed check          56.95        1889.5    No  \n",
       "2               Mailed check          53.85        108.15   Yes  \n",
       "3  Bank transfer (automatic)          42.30       1840.75    No  \n",
       "4           Electronic check          70.70        151.65   Yes  \n",
       "\n",
       "[5 rows x 21 columns]"
      ]
     },
     "execution_count": 3,
     "metadata": {},
     "output_type": "execute_result"
    }
   ],
   "source": [
    "data = pd.read_csv('telecom_users.csv', index_col=0)\n",
    "data.sort_index(inplace=True)\n",
    "data_prepr = data.copy()\n",
    "data.head()"
   ]
  },
  {
   "cell_type": "markdown",
   "metadata": {
    "id": "keppflos_LMn"
   },
   "source": [
    "Данные представлены в виде признаков разного типа - числовых и строковых\n",
    "\n",
    "---\n",
    "Выведем размер датафрейма и тип каждой колонки"
   ]
  },
  {
   "cell_type": "code",
   "execution_count": 7,
   "metadata": {
    "colab": {
     "base_uri": "https://localhost:8080/"
    },
    "id": "OqVV1jpM7-8h",
    "outputId": "589e5ead-680f-4217-a3ef-2c0b7a73f304"
   },
   "outputs": [
    {
     "name": "stdout",
     "output_type": "stream",
     "text": [
      "(5986, 21)\n",
      "<class 'pandas.core.frame.DataFrame'>\n",
      "Int64Index: 5986 entries, 0 to 7042\n",
      "Data columns (total 21 columns):\n",
      " #   Column            Non-Null Count  Dtype  \n",
      "---  ------            --------------  -----  \n",
      " 0   customerID        5986 non-null   object \n",
      " 1   gender            5986 non-null   object \n",
      " 2   SeniorCitizen     5986 non-null   int64  \n",
      " 3   Partner           5986 non-null   object \n",
      " 4   Dependents        5986 non-null   object \n",
      " 5   tenure            5986 non-null   int64  \n",
      " 6   PhoneService      5986 non-null   object \n",
      " 7   MultipleLines     5986 non-null   object \n",
      " 8   InternetService   5986 non-null   object \n",
      " 9   OnlineSecurity    5986 non-null   object \n",
      " 10  OnlineBackup      5986 non-null   object \n",
      " 11  DeviceProtection  5986 non-null   object \n",
      " 12  TechSupport       5986 non-null   object \n",
      " 13  StreamingTV       5986 non-null   object \n",
      " 14  StreamingMovies   5986 non-null   object \n",
      " 15  Contract          5986 non-null   object \n",
      " 16  PaperlessBilling  5986 non-null   object \n",
      " 17  PaymentMethod     5986 non-null   object \n",
      " 18  MonthlyCharges    5986 non-null   float64\n",
      " 19  TotalCharges      5986 non-null   object \n",
      " 20  Churn             5986 non-null   object \n",
      "dtypes: float64(1), int64(2), object(18)\n",
      "memory usage: 1.0+ MB\n"
     ]
    }
   ],
   "source": [
    "print(data.shape)\n",
    "data.info()"
   ]
  },
  {
   "cell_type": "markdown",
   "metadata": {
    "id": "yYB32v3CmSaf"
   },
   "source": [
    "Видим, что в нашем наборе почти 6 тысяч строк и 21 признак, включая целевой. Сразу стоит отметить, что колонка TotalCharges имеет тип object, хотя должна иметь численный тип. Приведем ее к нужному типу позже.\n",
    "\n",
    "\n",
    "---\n",
    "\n",
    "Пропущенные значения:"
   ]
  },
  {
   "cell_type": "code",
   "execution_count": 8,
   "metadata": {
    "colab": {
     "base_uri": "https://localhost:8080/"
    },
    "id": "kIlL8RJLCjdU",
    "outputId": "10a5ec1c-6cdb-4bda-fd71-87d8df5f0503"
   },
   "outputs": [
    {
     "data": {
      "text/plain": [
       "customerID          0\n",
       "gender              0\n",
       "SeniorCitizen       0\n",
       "Partner             0\n",
       "Dependents          0\n",
       "tenure              0\n",
       "PhoneService        0\n",
       "MultipleLines       0\n",
       "InternetService     0\n",
       "OnlineSecurity      0\n",
       "OnlineBackup        0\n",
       "DeviceProtection    0\n",
       "TechSupport         0\n",
       "StreamingTV         0\n",
       "StreamingMovies     0\n",
       "Contract            0\n",
       "PaperlessBilling    0\n",
       "PaymentMethod       0\n",
       "MonthlyCharges      0\n",
       "TotalCharges        0\n",
       "Churn               0\n",
       "dtype: int64"
      ]
     },
     "execution_count": 8,
     "metadata": {},
     "output_type": "execute_result"
    }
   ],
   "source": [
    "data.isnull().sum()"
   ]
  },
  {
   "cell_type": "markdown",
   "metadata": {
    "id": "u2_xFoZumhQO"
   },
   "source": [
    "Пропущенных значений в датафрейме нет, по крайней мере все ячейки заполнены, в них нет Nan\n",
    "\n",
    "\n",
    "---\n",
    "\n",
    "Проверим на наличие продублированных записей\n",
    "\n"
   ]
  },
  {
   "cell_type": "code",
   "execution_count": 9,
   "metadata": {
    "colab": {
     "base_uri": "https://localhost:8080/"
    },
    "id": "Sd1LT74BDdE8",
    "outputId": "81ede971-f027-4bbc-fc50-bbad029ee1a4"
   },
   "outputs": [
    {
     "data": {
      "text/plain": [
       "0"
      ]
     },
     "execution_count": 9,
     "metadata": {},
     "output_type": "execute_result"
    }
   ],
   "source": [
    "data.duplicated(['customerID']).sum()"
   ]
  },
  {
   "cell_type": "markdown",
   "metadata": {
    "id": "a3DX7P9oDmzf"
   },
   "source": [
    "ID абонента в датасете не повторяются. Все записи соответсвуют разным клиентам.\n",
    "\n",
    "Выведем описание количественных признаков. Предварительно приведя TotalCharges к нужному типу"
   ]
  },
  {
   "cell_type": "code",
   "execution_count": 10,
   "metadata": {
    "colab": {
     "base_uri": "https://localhost:8080/",
     "height": 294
    },
    "id": "YRZEV0TUG6pG",
    "outputId": "cc1d56ae-3a62-4d74-f0cf-022197b14ab7"
   },
   "outputs": [
    {
     "data": {
      "text/html": [
       "<div>\n",
       "<style scoped>\n",
       "    .dataframe tbody tr th:only-of-type {\n",
       "        vertical-align: middle;\n",
       "    }\n",
       "\n",
       "    .dataframe tbody tr th {\n",
       "        vertical-align: top;\n",
       "    }\n",
       "\n",
       "    .dataframe thead th {\n",
       "        text-align: right;\n",
       "    }\n",
       "</style>\n",
       "<table border=\"1\" class=\"dataframe\">\n",
       "  <thead>\n",
       "    <tr style=\"text-align: right;\">\n",
       "      <th></th>\n",
       "      <th>SeniorCitizen</th>\n",
       "      <th>tenure</th>\n",
       "      <th>MonthlyCharges</th>\n",
       "      <th>TotalCharges</th>\n",
       "    </tr>\n",
       "  </thead>\n",
       "  <tbody>\n",
       "    <tr>\n",
       "      <th>count</th>\n",
       "      <td>5986.000000</td>\n",
       "      <td>5986.000000</td>\n",
       "      <td>5986.000000</td>\n",
       "      <td>5986.000000</td>\n",
       "    </tr>\n",
       "    <tr>\n",
       "      <th>mean</th>\n",
       "      <td>0.161377</td>\n",
       "      <td>32.468760</td>\n",
       "      <td>64.802213</td>\n",
       "      <td>2294.221559</td>\n",
       "    </tr>\n",
       "    <tr>\n",
       "      <th>std</th>\n",
       "      <td>0.367909</td>\n",
       "      <td>24.516391</td>\n",
       "      <td>30.114702</td>\n",
       "      <td>2274.164124</td>\n",
       "    </tr>\n",
       "    <tr>\n",
       "      <th>min</th>\n",
       "      <td>0.000000</td>\n",
       "      <td>0.000000</td>\n",
       "      <td>18.250000</td>\n",
       "      <td>0.000000</td>\n",
       "    </tr>\n",
       "    <tr>\n",
       "      <th>25%</th>\n",
       "      <td>0.000000</td>\n",
       "      <td>9.000000</td>\n",
       "      <td>35.650000</td>\n",
       "      <td>401.587500</td>\n",
       "    </tr>\n",
       "    <tr>\n",
       "      <th>50%</th>\n",
       "      <td>0.000000</td>\n",
       "      <td>29.000000</td>\n",
       "      <td>70.400000</td>\n",
       "      <td>1408.575000</td>\n",
       "    </tr>\n",
       "    <tr>\n",
       "      <th>75%</th>\n",
       "      <td>0.000000</td>\n",
       "      <td>56.000000</td>\n",
       "      <td>89.900000</td>\n",
       "      <td>3841.500000</td>\n",
       "    </tr>\n",
       "    <tr>\n",
       "      <th>max</th>\n",
       "      <td>1.000000</td>\n",
       "      <td>72.000000</td>\n",
       "      <td>118.750000</td>\n",
       "      <td>8684.800000</td>\n",
       "    </tr>\n",
       "  </tbody>\n",
       "</table>\n",
       "</div>"
      ],
      "text/plain": [
       "       SeniorCitizen       tenure  MonthlyCharges  TotalCharges\n",
       "count    5986.000000  5986.000000     5986.000000   5986.000000\n",
       "mean        0.161377    32.468760       64.802213   2294.221559\n",
       "std         0.367909    24.516391       30.114702   2274.164124\n",
       "min         0.000000     0.000000       18.250000      0.000000\n",
       "25%         0.000000     9.000000       35.650000    401.587500\n",
       "50%         0.000000    29.000000       70.400000   1408.575000\n",
       "75%         0.000000    56.000000       89.900000   3841.500000\n",
       "max         1.000000    72.000000      118.750000   8684.800000"
      ]
     },
     "execution_count": 10,
     "metadata": {},
     "output_type": "execute_result"
    }
   ],
   "source": [
    "data['TotalCharges'] = data.TotalCharges.apply(pd.to_numeric, errors='coerce') # Не числовые значения меняем на NaN\n",
    "data['TotalCharges'].fillna(value=(data.tenure * data.MonthlyCharges), inplace=True)  # Заполним NaN\n",
    "data.describe()"
   ]
  },
  {
   "cell_type": "markdown",
   "metadata": {
    "id": "GbRtYNx03yln"
   },
   "source": [
    "Можно заметить, что у признака TotalCharges заметно больше, чем медианное. Это может говорить о том, что распределение этой величины скошено вправо. \n",
    "\n",
    "Взглянем на распределение зависимой переменной"
   ]
  },
  {
   "cell_type": "code",
   "execution_count": 11,
   "metadata": {
    "colab": {
     "base_uri": "https://localhost:8080/",
     "height": 296
    },
    "id": "HkKauv602rum",
    "outputId": "8e5bd422-e7d8-4ad3-a0d3-44c68e4dd6da"
   },
   "outputs": [
    {
     "name": "stdout",
     "output_type": "stream",
     "text": [
      "Churn = 26.51%\n"
     ]
    },
    {
     "data": {
      "image/png": "[encoded data removed]",
      "text/plain": [
       "<Figure size 432x288 with 1 Axes>"
      ]
     },
     "metadata": {
      "needs_background": "light"
     },
     "output_type": "display_data"
    }
   ],
   "source": [
    "sns.histplot(data=data, x='Churn')\n",
    "churn_percent = round((data['Churn'].value_counts()['Yes'] / data['Churn'].count()) * 100, 2)\n",
    "print(f'Churn = {churn_percent}%')"
   ]
  },
  {
   "cell_type": "markdown",
   "metadata": {
    "id": "eeQUJf57c_nC"
   },
   "source": [
    "26,5 процентов наблюдений в выборке ушли в отток. Распределение классов в датасете несбалансировано. Это нужно будет учитывать при прогнозировании.\n",
    "\n"
   ]
  },
  {
   "cell_type": "markdown",
   "metadata": {
    "id": "CETUWLUTc_wX"
   },
   "source": [
    "Построим распределение времени пользования услугами у абонентов"
   ]
  },
  {
   "cell_type": "code",
   "execution_count": 12,
   "metadata": {
    "colab": {
     "base_uri": "https://localhost:8080/",
     "height": 278
    },
    "id": "7gyIGcwtTk38",
    "outputId": "8d3a985c-55fe-47d1-8860-b879559fd351"
   },
   "outputs": [
    {
     "data": {
      "image/png": "[encoded data removed]",
      "text/plain": [
       "<Figure size 432x288 with 1 Axes>"
      ]
     },
     "metadata": {
      "needs_background": "light"
     },
     "output_type": "display_data"
    }
   ],
   "source": [
    "sns.histplot(data=data, x='tenure', bins=30)\n",
    "plt.show()"
   ]
  },
  {
   "cell_type": "markdown",
   "metadata": {
    "id": "Q6yTgJzEc9l3"
   },
   "source": [
    "Есть большое кол-во пользователей, которые пользовались услугами меньше полугода. Но также есть сегмент постоянных клиентов с сроком больше 6-ти лет."
   ]
  },
  {
   "cell_type": "markdown",
   "metadata": {
    "id": "NS4f1ykCr3N1"
   },
   "source": [
    "Посмотрим распределение ежемесячного платежа и общей суммы."
   ]
  },
  {
   "cell_type": "code",
   "execution_count": 13,
   "metadata": {
    "colab": {
     "base_uri": "https://localhost:8080/",
     "height": 334
    },
    "id": "2kBLMxCa2S3T",
    "outputId": "f44b5559-3e77-4956-ad89-613fb7fe3726"
   },
   "outputs": [
    {
     "data": {
      "image/png": "[encoded data removed]",
      "text/plain": [
       "<Figure size 1008x360 with 2 Axes>"
      ]
     },
     "metadata": {
      "needs_background": "light"
     },
     "output_type": "display_data"
    }
   ],
   "source": [
    "fig = plt.figure(figsize=(14,5))\n",
    "ax_1 = fig.add_subplot(1,2,1)\n",
    "ax_2 = fig.add_subplot(1,2,2)\n",
    "sns.histplot(data=data, x='MonthlyCharges', ax=ax_1)\n",
    "sns.histplot(data=data, x='TotalCharges', bins=30, ax=ax_2)\n",
    "plt.show()"
   ]
  },
  {
   "cell_type": "markdown",
   "metadata": {
    "id": "VtekRvd9sLWi"
   },
   "source": [
    "По сумме ежемесячного платежа можно выделить два кластера: большое количество абонентов маленьким с платежом (менее 30), и все остальные абоненты сумма платежа которых имеет распределение близкое к нормальному.\n"
   ]
  },
  {
   "cell_type": "markdown",
   "metadata": {
    "id": "IHrmDmQhtHYK"
   },
   "source": [
    "Далее, построим графики распределения всех остальных признаков."
   ]
  },
  {
   "cell_type": "code",
   "execution_count": 14,
   "metadata": {
    "colab": {
     "base_uri": "https://localhost:8080/",
     "height": 1000
    },
    "id": "qTBNPn9K2m4i",
    "outputId": "cd785ae9-7c8a-4ade-f880-2e92b1410f66"
   },
   "outputs": [
    {
     "data": {
      "image/png": "[encoded data removed]",
      "text/plain": [
       "<Figure size 1440x2160 with 16 Axes>"
      ]
     },
     "metadata": {
      "needs_background": "light"
     },
     "output_type": "display_data"
    }
   ],
   "source": [
    "fig = plt.figure(figsize=(20, 30))\n",
    "for n, col in enumerate(data.drop(['customerID', 'Churn', 'tenure'], axis=1).select_dtypes(exclude=float).columns):\n",
    " ax = fig.add_subplot(6, 3, n+1)\n",
    " sns.histplot(data, x=col, ax=ax)\n",
    " plt.xticks(rotation=20)\n",
    " ax.set_xlabel(None)\n",
    " ax.set_title(col)"
   ]
  },
  {
   "cell_type": "markdown",
   "metadata": {
    "id": "15_tXj-pFNp3"
   },
   "source": [
    "Все эти признаки категориальные. Их можно условно разделить на две группы:\n",
    "1. \"Социальные\" признаки, например пол или наличие супруга. В них можно отметить:\n",
    "\n",
    "* Имеется явный дизбаланс классов в признаке \"SeniorCitizen\", но это логично. Очевидно, что в целом пенсионеров меньше, чем остальных людей\n",
    "* Такая же ситуация с признаком \"Dependents\".\n",
    "\n",
    "2. \"Технические признаки\", такие как наличие/отсутствие различных сервисов и услуг. По этим признакам:\n",
    "\n",
    "\n",
    "*  Малое кол-во наблюдений не имеющих услуги телефонной связи. Признаки \"PhoneService\" и \"MultipleLines\". \n",
    "*  Большинство клиентов не заключают длительный контракт (на год или 2)\n",
    "* Также сравнительно небольшое кол-во клиентов не имеют услуги Интернет.\n",
    "\n",
    "\n",
    "\n",
    "\n",
    "\n"
   ]
  },
  {
   "cell_type": "markdown",
   "metadata": {
    "id": "TDUhZEKyVYSN"
   },
   "source": [
    "# 2. Исследование зависимостей и формулирование гипотез"
   ]
  },
  {
   "cell_type": "markdown",
   "metadata": {
    "id": "qepBhVwpljuD"
   },
   "source": [
    "Попрубуем выяснить, какие пользователи перестают пользоваться услугами компании.\n",
    "\n",
    "Удалим из датасета ID пользователя. Он нам не пригодится."
   ]
  },
  {
   "cell_type": "code",
   "execution_count": 15,
   "metadata": {
    "id": "FWOm-5fclV0p"
   },
   "outputs": [],
   "source": [
    "data.drop('customerID', axis=1, inplace=True)"
   ]
  },
  {
   "cell_type": "markdown",
   "metadata": {
    "id": "1qwij6953jqw"
   },
   "source": [
    "Вероятно, что больше всего абонентов уходят на небольшом сроке пользования услугами: в течении полугода.\n",
    "\n",
    "Посмотрим на каких месяцах пользователи уходили в отток"
   ]
  },
  {
   "cell_type": "code",
   "execution_count": 16,
   "metadata": {
    "colab": {
     "base_uri": "https://localhost:8080/",
     "height": 442
    },
    "id": "8zkThuoKQg61",
    "outputId": "9604f627-8ed6-4bdf-a203-bf758b4bd09c"
   },
   "outputs": [
    {
     "data": {
      "image/png": "[encoded data removed]",
      "text/plain": [
       "<Figure size 720x504 with 1 Axes>"
      ]
     },
     "metadata": {
      "needs_background": "light"
     },
     "output_type": "display_data"
    }
   ],
   "source": [
    "pivot = pd.pivot_table(data, values='gender', index='tenure', columns='Churn', aggfunc='count').fillna(0)\n",
    "max_churn_tenure = pivot[pivot.Yes == pivot.Yes.max()].index\n",
    "plt.figure(figsize=(10,7))\n",
    "sns.lineplot(data=pivot, x=pivot.index, y=pivot.Yes, label='Yes churn')\n",
    "sns.lineplot(data=pivot, x=pivot.index, y=pivot.No, label='No churn')\n",
    "plt.axvline(x=max_churn_tenure, color='r', alpha=0.5, label=f'max_churn_tenure - {max_churn_tenure[0]}')\n",
    "plt.ylabel('Count')\n",
    "plt.legend()\n",
    "plt.show()"
   ]
  },
  {
   "cell_type": "markdown",
   "metadata": {
    "id": "aXXWvDHJLoNn"
   },
   "source": [
    "По графику видно, что есть большое количество пользователей, которые ушли в отток после первого месяца пользования услугами. Таких записей в датасете более 300. Пользователи, которые являются клиентами более 70 месяцев, напротив, составляют лояльную группу практически без оттока."
   ]
  },
  {
   "cell_type": "markdown",
   "metadata": {
    "id": "iGlznqMxMhhk"
   },
   "source": [
    "Построим графики показывающие зависимость ежемесячной и общей суммы платежа от признака \"Churn\""
   ]
  },
  {
   "cell_type": "code",
   "execution_count": 17,
   "metadata": {
    "colab": {
     "base_uri": "https://localhost:8080/",
     "height": 442
    },
    "id": "MGV6BGs40qAd",
    "outputId": "9acf0813-1b98-46d7-ddb8-45f5d150448b"
   },
   "outputs": [
    {
     "data": {
      "image/png": "[encoded data removed]",
      "text/plain": [
       "<Figure size 1440x504 with 2 Axes>"
      ]
     },
     "metadata": {
      "needs_background": "light"
     },
     "output_type": "display_data"
    }
   ],
   "source": [
    "fig = plt.figure(figsize=(20,7))\n",
    "ax_1 = fig.add_subplot(1, 2, 1)\n",
    "ax_2 = fig.add_subplot(1, 2, 2)\n",
    "sns.histplot(data=data, x='MonthlyCharges', hue='Churn', multiple=\"stack\", ax=ax_1)\n",
    "sns.histplot(data=data, x='TotalCharges', hue='Churn', multiple=\"stack\", ax=ax_2)\n",
    "plt.show()"
   ]
  },
  {
   "cell_type": "code",
   "execution_count": 18,
   "metadata": {
    "colab": {
     "base_uri": "https://localhost:8080/",
     "height": 442
    },
    "id": "80sR1epIM5uB",
    "outputId": "c816b8a4-a2cb-4d41-f8bf-9d627d22755c"
   },
   "outputs": [
    {
     "data": {
      "image/png": "[encoded data removed]",
      "text/plain": [
       "<Figure size 1440x504 with 2 Axes>"
      ]
     },
     "metadata": {
      "needs_background": "light"
     },
     "output_type": "display_data"
    }
   ],
   "source": [
    "fig = plt.figure(figsize=(20,7))\n",
    "ax_1 = fig.add_subplot(1, 2, 1)\n",
    "ax_2 = fig.add_subplot(1, 2, 2)\n",
    "sns.boxplot(data=data, y='MonthlyCharges', x='Churn', ax=ax_1)\n",
    "sns.boxplot(data=data, y='TotalCharges', x='Churn', ax=ax_2)\n",
    "plt.show()"
   ]
  },
  {
   "cell_type": "markdown",
   "metadata": {
    "id": "uyovPRzvNnuK"
   },
   "source": [
    "Оба признака имеют разное распределение в зависимости от метки целевой переменной. Но, возможно, \"TotalCharges\" имеет большую корреляцию с \"MonthlyCharges\" и \"tenure\" т. к практически является их произведением. Посмотрим на их коэффициент корреляции. Также построим точечный график зависимости \"TotalCharges\" от произведения \"MonthlyCharges\" и \"tenure\"."
   ]
  },
  {
   "cell_type": "code",
   "execution_count": 19,
   "metadata": {
    "colab": {
     "base_uri": "https://localhost:8080/",
     "height": 337
    },
    "id": "5S2Y-kn9ZLUI",
    "outputId": "108cd01c-1af6-425a-c823-7349bf59b363"
   },
   "outputs": [
    {
     "data": {
      "image/png": "[encoded data removed]",
      "text/plain": [
       "<Figure size 1080x360 with 3 Axes>"
      ]
     },
     "metadata": {
      "needs_background": "light"
     },
     "output_type": "display_data"
    }
   ],
   "source": [
    "data['Churn'] = data['Churn'].map({'Yes':1, 'No':0})\n",
    "cor = data[['Churn', 'MonthlyCharges', 'TotalCharges', 'tenure']].corr()\n",
    "fig = plt.figure(figsize=(15, 5))\n",
    "ax_1 = fig.add_subplot(1, 2, 1)\n",
    "sns.heatmap(cor, annot=True, ax=ax_1)\n",
    "ax_2 = fig.add_subplot(1, 2, 2)\n",
    "y = data.MonthlyCharges * data.tenure\n",
    "sns.scatterplot(data=data, x='TotalCharges', y=y, ax=ax_2)\n",
    "ax_2.set_ylabel('MonthlyCharges * tenure')\n",
    "plt.show()"
   ]
  },
  {
   "cell_type": "markdown",
   "metadata": {
    "id": "hY0orfuJcGJv"
   },
   "source": [
    "TotalCharges имеет достаточно высокую корреляцию и с \"tenure\" и с \"MonthlyCharges\". И, как и ожидалось, очень высокую корреляцию с произведением эти признаков."
   ]
  },
  {
   "cell_type": "markdown",
   "metadata": {
    "id": "zOTQUPK6NnxK"
   },
   "source": [
    "Построим графики отражающие зависимости категориальных признаков от целевой переменной.\n",
    "\n",
    "Количество пользователей в зависимости от пола и ухода в отток:"
   ]
  },
  {
   "cell_type": "code",
   "execution_count": 20,
   "metadata": {
    "colab": {
     "base_uri": "https://localhost:8080/",
     "height": 278
    },
    "id": "lbekxt4hVYSQ",
    "outputId": "e84b82e7-adc4-42b3-973a-949e657e885e"
   },
   "outputs": [
    {
     "data": {
      "image/png": "[encoded data removed]",
      "text/plain": [
       "<Figure size 432x288 with 1 Axes>"
      ]
     },
     "metadata": {
      "needs_background": "light"
     },
     "output_type": "display_data"
    }
   ],
   "source": [
    "sns.countplot(data=data, x='gender', hue='Churn')\n",
    "plt.show()"
   ]
  },
  {
   "cell_type": "markdown",
   "metadata": {
    "id": "llcesyUJPdSm"
   },
   "source": [
    "Нет зависимости вероятности оттока от пола абонента. (Было бы удивительно, если бы зависимость была)\n",
    "\n",
    "---\n",
    "\n",
    "Проверим есть ли зависимость оттока клиентов от метода оплаты:"
   ]
  },
  {
   "cell_type": "code",
   "execution_count": 21,
   "metadata": {
    "colab": {
     "base_uri": "https://localhost:8080/",
     "height": 355
    },
    "id": "rfF412Pe3NPw",
    "outputId": "f6e83f82-1405-432c-af9b-08883b2c2055"
   },
   "outputs": [
    {
     "data": {
      "image/png": "[encoded data removed]",
      "text/plain": [
       "<Figure size 432x288 with 1 Axes>"
      ]
     },
     "metadata": {
      "needs_background": "light"
     },
     "output_type": "display_data"
    }
   ],
   "source": [
    "sns.countplot(data=data, x='PaymentMethod', hue='Churn')\n",
    "plt.xticks(rotation=45)\n",
    "plt.show()"
   ]
  },
  {
   "cell_type": "markdown",
   "metadata": {
    "id": "Korvm2gBPrSm"
   },
   "source": [
    "Здесь уже интереснее: Пользователи, которые используют Electronic check, в несколько раз чаще уходят в отток, чем остальные.\n",
    "\n",
    "\n",
    "---\n",
    "\n",
    "Посмотрим на зависимость оттока от остальных категориальных переменных:"
   ]
  },
  {
   "cell_type": "code",
   "execution_count": 22,
   "metadata": {
    "colab": {
     "base_uri": "https://localhost:8080/",
     "height": 1000
    },
    "id": "51OM16x83NTv",
    "outputId": "e7ffd87f-4e21-4c53-d875-f3fb24ebca7b"
   },
   "outputs": [
    {
     "data": {
      "image/png": "[encoded data removed]",
      "text/plain": [
       "<Figure size 1440x2160 with 14 Axes>"
      ]
     },
     "metadata": {
      "needs_background": "light"
     },
     "output_type": "display_data"
    }
   ],
   "source": [
    "fig = plt.figure(figsize=(20,30))\n",
    "for n, col in enumerate(data.drop('tenure', axis=1).columns[2:16]):\n",
    "  ax = fig.add_subplot(5, 3, n+1)\n",
    "  sns.countplot(data=data, x=col, hue='Churn', ax=ax)"
   ]
  },
  {
   "cell_type": "markdown",
   "metadata": {
    "id": "QFGVYc_eQLDj"
   },
   "source": [
    "Выводы, которые можно сделать по графикам:\n",
    "- Наличие либо отсутсвие услуги телефонной связи не влияет на отток.\n",
    "- Признаки 'StreamingMovies' дублирует признак \"StreamingMovies\" так как, вероятно, эти услуги подключаются парами.\n",
    "- Можно увидеть, что пользователи имеющие тип подключения \"Faber optic\" гораздо больше остальных уходят в отток\n",
    "- Клиенты, продляющие договор каждый месяц, уходят в отток намного чаще, чем остальные\n",
    "- Заметно, что пользователи не имеющие услуги интернет, уходят в отток мало. \n",
    "\n",
    "\n"
   ]
  },
  {
   "cell_type": "markdown",
   "metadata": {
    "id": "akNwvfLLRvuw"
   },
   "source": [
    "Отдельно, стоит проверить действитьельно ли признак 'PhoneService' имеет низкую корреляцию с целевой переменной"
   ]
  },
  {
   "cell_type": "code",
   "execution_count": 23,
   "metadata": {
    "colab": {
     "base_uri": "https://localhost:8080/"
    },
    "id": "DAiF5nGDhBwz",
    "outputId": "1bdb2f6e-38d7-43e3-c230-203b083170d8"
   },
   "outputs": [
    {
     "data": {
      "text/plain": [
       "PhoneService     0.009421\n",
       "MultipleLines    0.034943\n",
       "Name: Churn, dtype: float64"
      ]
     },
     "execution_count": 23,
     "metadata": {},
     "output_type": "execute_result"
    }
   ],
   "source": [
    "from sklearn.preprocessing import LabelEncoder\n",
    "lab_encod = LabelEncoder()\n",
    "data['Churn'] = lab_encod.fit_transform(data['Churn'])\n",
    "data['PhoneService'] = lab_encod.fit_transform(data['PhoneService'])\n",
    "data['MultipleLines'] = lab_encod.fit_transform(data['MultipleLines'])\n",
    "data.corr()['Churn'][['PhoneService', 'MultipleLines']]"
   ]
  },
  {
   "cell_type": "markdown",
   "metadata": {
    "id": "n-nf-aoo0B4J"
   },
   "source": [
    "Признак \"PhoneService\" и зависящий от него признак \"MultipleLines\" имеют очень низкую корреляцию с целевой переменной"
   ]
  },
  {
   "cell_type": "markdown",
   "metadata": {
    "id": "ExM4E8dilDZZ"
   },
   "source": [
    "Как итог - отказываемся от этих данных:\n",
    "\n",
    "- \"gender\" - не влияет на целевую переменную\n",
    "- \"TotalCharges\" - несет избыточную информацию (высокая корреляция с \"tenure\" и \"MonthlyCharges\")\n",
    "- \"PhoneService\", \"MultipleLines\" - не влияют на целевую переменную\n",
    "- \"StreamingMovies\" - повторяет распределение других признаков"
   ]
  },
  {
   "cell_type": "code",
   "execution_count": 24,
   "metadata": {
    "id": "HVjJ5tabU8Ly"
   },
   "outputs": [],
   "source": [
    "data.drop(['gender', 'PhoneService', 'TotalCharges', 'MultipleLines', 'StreamingMovies', 'TotalCharges'], axis=1, inplace=True)"
   ]
  },
  {
   "cell_type": "markdown",
   "metadata": {
    "id": "A5Fk37f2htQF"
   },
   "source": [
    "Следующим шагом добавим несколько признаков и преобразуем имеющиеся:\n",
    "- Добавление бинарного признака на основе \"tenure\", сделав его важнее. Новая фича будут определять принадленость абонента к кластеру \"первый месяц использования\"\n",
    "- Добавление одного рангового признака, показывающего количество не подключенных услуг \"Sum-no\" с шагом 0.1."
   ]
  },
  {
   "cell_type": "code",
   "execution_count": 25,
   "metadata": {
    "id": "i0MmgS-9S4c-"
   },
   "outputs": [],
   "source": [
    "data['first_month'] = np.where(data.tenure == 1, 1, 0)\n",
    "\n",
    "data['Sum_no'] = data.drop(['Partner', 'Dependents', 'Churn'], axis=1).eq('No').sum(axis=1)/10 \n"
   ]
  },
  {
   "cell_type": "markdown",
   "metadata": {
    "id": "VQeF6Ry-S-RA"
   },
   "source": [
    "При подготовке данных к обучению, использовал несколько функций:\n",
    "- Для кодировки номинативных переменных с двумя градациями использовал LabelEncoder\n",
    "- Для кодировки номинативных переменных с тремя и более градациями использовал целевое кодирование реализованное функцией TargetEncoder из библиотеки category_encoders\n",
    "- Для преобразования количественных признаков использовал MinMaxScaler"
   ]
  },
  {
   "cell_type": "code",
   "execution_count": 4,
   "metadata": {
    "id": "N_Pn4OSJikIh"
   },
   "outputs": [],
   "source": [
    "# !pip install category_encoders # Необходимо для colab\n",
    "from sklearn.preprocessing import LabelEncoder, MinMaxScaler\n",
    "from category_encoders import TargetEncoder\n",
    "lab_encoder = LabelEncoder()\n",
    "min_max = MinMaxScaler()\n",
    "target_encoder = TargetEncoder()"
   ]
  },
  {
   "cell_type": "code",
   "execution_count": 27,
   "metadata": {
    "id": "ODuScYK1h-Ht"
   },
   "outputs": [],
   "source": [
    "# Признаки у которых 2 градации\n",
    "col = data.nunique() == 2\n",
    "col = data[col[col].index].select_dtypes(include='object').columns\n",
    "for column in col:\n",
    "  data[column] = lab_encoder.fit_transform(data[column])\n",
    "# Признаки у которых больше двух градаций\n",
    "col = data.nunique() > 2\n",
    "col = data[col[col].index].select_dtypes(include='object').columns\n",
    "data[col] = target_encoder.fit(data[col], data['Churn'])\n",
    "data[col] = target_encoder.transform(data[col], data['Churn'])\n",
    "# Стандартизируем количественные признаки. Логарифмирование MonthlyCharges немного улучшило итоговый скор \n",
    "data['MonthlyCharges'] = np.log(data.MonthlyCharges)\n",
    "data[['MonthlyCharges', 'tenure']] = min_max.fit_transform(data[['MonthlyCharges', 'tenure']])"
   ]
  },
  {
   "cell_type": "markdown",
   "metadata": {
    "id": "2Ro5qvsKh-H0"
   },
   "source": [
    "Все признаки числовые и сведены к диапазону от -1 до 1."
   ]
  },
  {
   "cell_type": "code",
   "execution_count": 28,
   "metadata": {
    "colab": {
     "base_uri": "https://localhost:8080/",
     "height": 222
    },
    "id": "2rxwyaJKh-H1",
    "outputId": "22939a5a-a9d3-4c2e-9062-8bc9183bab45"
   },
   "outputs": [
    {
     "data": {
      "text/html": [
       "<div>\n",
       "<style scoped>\n",
       "    .dataframe tbody tr th:only-of-type {\n",
       "        vertical-align: middle;\n",
       "    }\n",
       "\n",
       "    .dataframe tbody tr th {\n",
       "        vertical-align: top;\n",
       "    }\n",
       "\n",
       "    .dataframe thead th {\n",
       "        text-align: right;\n",
       "    }\n",
       "</style>\n",
       "<table border=\"1\" class=\"dataframe\">\n",
       "  <thead>\n",
       "    <tr style=\"text-align: right;\">\n",
       "      <th></th>\n",
       "      <th>SeniorCitizen</th>\n",
       "      <th>Partner</th>\n",
       "      <th>Dependents</th>\n",
       "      <th>tenure</th>\n",
       "      <th>InternetService</th>\n",
       "      <th>OnlineSecurity</th>\n",
       "      <th>OnlineBackup</th>\n",
       "      <th>DeviceProtection</th>\n",
       "      <th>TechSupport</th>\n",
       "      <th>StreamingTV</th>\n",
       "      <th>Contract</th>\n",
       "      <th>PaperlessBilling</th>\n",
       "      <th>PaymentMethod</th>\n",
       "      <th>MonthlyCharges</th>\n",
       "      <th>Churn</th>\n",
       "      <th>first_month</th>\n",
       "      <th>Sum_no</th>\n",
       "    </tr>\n",
       "  </thead>\n",
       "  <tbody>\n",
       "    <tr>\n",
       "      <th>0</th>\n",
       "      <td>0</td>\n",
       "      <td>1</td>\n",
       "      <td>0</td>\n",
       "      <td>0.013889</td>\n",
       "      <td>0.265119</td>\n",
       "      <td>0.265119</td>\n",
       "      <td>0.265119</td>\n",
       "      <td>0.265119</td>\n",
       "      <td>0.265119</td>\n",
       "      <td>0.265119</td>\n",
       "      <td>0.265119</td>\n",
       "      <td>1</td>\n",
       "      <td>0.265119</td>\n",
       "      <td>0.262711</td>\n",
       "      <td>0</td>\n",
       "      <td>1</td>\n",
       "      <td>0.4</td>\n",
       "    </tr>\n",
       "    <tr>\n",
       "      <th>1</th>\n",
       "      <td>0</td>\n",
       "      <td>0</td>\n",
       "      <td>0</td>\n",
       "      <td>0.472222</td>\n",
       "      <td>0.265119</td>\n",
       "      <td>0.265119</td>\n",
       "      <td>0.265119</td>\n",
       "      <td>0.265119</td>\n",
       "      <td>0.265119</td>\n",
       "      <td>0.265119</td>\n",
       "      <td>0.265119</td>\n",
       "      <td>0</td>\n",
       "      <td>0.265119</td>\n",
       "      <td>0.607633</td>\n",
       "      <td>0</td>\n",
       "      <td>0</td>\n",
       "      <td>0.4</td>\n",
       "    </tr>\n",
       "    <tr>\n",
       "      <th>2</th>\n",
       "      <td>0</td>\n",
       "      <td>0</td>\n",
       "      <td>0</td>\n",
       "      <td>0.027778</td>\n",
       "      <td>0.265119</td>\n",
       "      <td>0.265119</td>\n",
       "      <td>0.265119</td>\n",
       "      <td>0.265119</td>\n",
       "      <td>0.265119</td>\n",
       "      <td>0.265119</td>\n",
       "      <td>0.265119</td>\n",
       "      <td>1</td>\n",
       "      <td>0.265119</td>\n",
       "      <td>0.577747</td>\n",
       "      <td>1</td>\n",
       "      <td>0</td>\n",
       "      <td>0.3</td>\n",
       "    </tr>\n",
       "    <tr>\n",
       "      <th>3</th>\n",
       "      <td>0</td>\n",
       "      <td>0</td>\n",
       "      <td>0</td>\n",
       "      <td>0.625000</td>\n",
       "      <td>0.265119</td>\n",
       "      <td>0.265119</td>\n",
       "      <td>0.265119</td>\n",
       "      <td>0.265119</td>\n",
       "      <td>0.265119</td>\n",
       "      <td>0.265119</td>\n",
       "      <td>0.265119</td>\n",
       "      <td>0</td>\n",
       "      <td>0.265119</td>\n",
       "      <td>0.448845</td>\n",
       "      <td>0</td>\n",
       "      <td>0</td>\n",
       "      <td>0.3</td>\n",
       "    </tr>\n",
       "    <tr>\n",
       "      <th>4</th>\n",
       "      <td>0</td>\n",
       "      <td>0</td>\n",
       "      <td>0</td>\n",
       "      <td>0.027778</td>\n",
       "      <td>0.265119</td>\n",
       "      <td>0.265119</td>\n",
       "      <td>0.265119</td>\n",
       "      <td>0.265119</td>\n",
       "      <td>0.265119</td>\n",
       "      <td>0.265119</td>\n",
       "      <td>0.265119</td>\n",
       "      <td>1</td>\n",
       "      <td>0.265119</td>\n",
       "      <td>0.723110</td>\n",
       "      <td>1</td>\n",
       "      <td>0</td>\n",
       "      <td>0.5</td>\n",
       "    </tr>\n",
       "  </tbody>\n",
       "</table>\n",
       "</div>"
      ],
      "text/plain": [
       "   SeniorCitizen  Partner  Dependents    tenure  InternetService  \\\n",
       "0              0        1           0  0.013889         0.265119   \n",
       "1              0        0           0  0.472222         0.265119   \n",
       "2              0        0           0  0.027778         0.265119   \n",
       "3              0        0           0  0.625000         0.265119   \n",
       "4              0        0           0  0.027778         0.265119   \n",
       "\n",
       "   OnlineSecurity  OnlineBackup  DeviceProtection  TechSupport  StreamingTV  \\\n",
       "0        0.265119      0.265119          0.265119     0.265119     0.265119   \n",
       "1        0.265119      0.265119          0.265119     0.265119     0.265119   \n",
       "2        0.265119      0.265119          0.265119     0.265119     0.265119   \n",
       "3        0.265119      0.265119          0.265119     0.265119     0.265119   \n",
       "4        0.265119      0.265119          0.265119     0.265119     0.265119   \n",
       "\n",
       "   Contract  PaperlessBilling  PaymentMethod  MonthlyCharges  Churn  \\\n",
       "0  0.265119                 1       0.265119        0.262711      0   \n",
       "1  0.265119                 0       0.265119        0.607633      0   \n",
       "2  0.265119                 1       0.265119        0.577747      1   \n",
       "3  0.265119                 0       0.265119        0.448845      0   \n",
       "4  0.265119                 1       0.265119        0.723110      1   \n",
       "\n",
       "   first_month  Sum_no  \n",
       "0            1     0.4  \n",
       "1            0     0.4  \n",
       "2            0     0.3  \n",
       "3            0     0.3  \n",
       "4            0     0.5  "
      ]
     },
     "execution_count": 28,
     "metadata": {},
     "output_type": "execute_result"
    }
   ],
   "source": [
    "data.head()"
   ]
  },
  {
   "cell_type": "markdown",
   "metadata": {
    "id": "Gd1Bq6iQh-H2"
   },
   "source": [
    "Посмотрим на коэффициенты корреляции признаков с целевой переменной. "
   ]
  },
  {
   "cell_type": "code",
   "execution_count": 29,
   "metadata": {
    "colab": {
     "base_uri": "https://localhost:8080/"
    },
    "id": "vQoJmDJwh-H3",
    "outputId": "c65ad4ec-6f12-4b93-cffa-40d48e484411"
   },
   "outputs": [
    {
     "data": {
      "text/plain": [
       "Sum_no              3.158156e-01\n",
       "first_month         2.478025e-01\n",
       "MonthlyCharges      2.036644e-01\n",
       "PaperlessBilling    1.889963e-01\n",
       "SeniorCitizen       1.500972e-01\n",
       "Contract            8.905908e-17\n",
       "StreamingTV         8.905908e-17\n",
       "PaymentMethod       8.905908e-17\n",
       "DeviceProtection    8.905908e-17\n",
       "OnlineBackup        8.905908e-17\n",
       "OnlineSecurity      8.905908e-17\n",
       "InternetService     8.905908e-17\n",
       "TechSupport         8.905908e-17\n",
       "Partner            -1.468400e-01\n",
       "Dependents         -1.602038e-01\n",
       "tenure             -3.484686e-01\n",
       "Name: Churn, dtype: float64"
      ]
     },
     "execution_count": 29,
     "metadata": {},
     "output_type": "execute_result"
    }
   ],
   "source": [
    "corr_col = data.corr()['Churn'].sort_values(ascending=False)\n",
    "corr_col.drop('Churn')"
   ]
  },
  {
   "cell_type": "markdown",
   "metadata": {
    "id": "YnZrI40dVYSZ"
   },
   "source": [
    "# 3. Построение моделей для прогнозирования оттока"
   ]
  },
  {
   "cell_type": "markdown",
   "metadata": {
    "id": "mIgXhomGuEmw"
   },
   "source": [
    "Импортируем необходимые библиотеки и модели"
   ]
  },
  {
   "cell_type": "code",
   "execution_count": 5,
   "metadata": {
    "id": "EEmePsUW3IBm"
   },
   "outputs": [],
   "source": [
    "from sklearn.pipeline import Pipeline\n",
    "from sklearn.compose import ColumnTransformer\n",
    "from sklearn.preprocessing import OneHotEncoder, FunctionTransformer, StandardScaler\n",
    "from sklearn.linear_model import LogisticRegression\n",
    "from sklearn.model_selection import train_test_split, StratifiedKFold, GridSearchCV, RandomizedSearchCV\n",
    "from sklearn.metrics import roc_auc_score, precision_score, recall_score, roc_curve, auc\n",
    "from sklearn.neighbors import KNeighborsClassifier\n",
    "from sklearn.tree import DecisionTreeClassifier\n",
    "from sklearn.ensemble import RandomForestClassifier, AdaBoostClassifier, GradientBoostingClassifier\n",
    "from sklearn.naive_bayes import GaussianNB\n",
    "from sklearn.svm import SVC"
   ]
  },
  {
   "cell_type": "markdown",
   "metadata": {
    "id": "Rom74EnvuKJo"
   },
   "source": [
    "Подготовим данные для обучения моделей. \n",
    "\n",
    "Для обучения используем копию данных, которая была сделана в самом начале.\n",
    "\n",
    "Разделим датасет на тренировочную и тестовую части, чтобы при преобразовании данных трейн-сет не содержал информацию о тестовой выборке.\n",
    "\n",
    "В разделении на train test учтем распределение целевой переменной.\n",
    "\n",
    "И удалим неиспользуемые признаки."
   ]
  },
  {
   "cell_type": "code",
   "execution_count": 6,
   "metadata": {
    "id": "5pt0LOlWIIbj"
   },
   "outputs": [],
   "source": [
    "data_prepr.drop(['customerID', 'gender', 'PhoneService', 'TotalCharges', \n",
    "                 'MultipleLines', 'StreamingMovies'], axis=1, inplace=True)"
   ]
  },
  {
   "cell_type": "code",
   "execution_count": 7,
   "metadata": {
    "colab": {
     "base_uri": "https://localhost:8080/"
    },
    "id": "N08P8_VUMFgK",
    "outputId": "22eef97a-f87d-4634-8f09-7f16b51c10e1"
   },
   "outputs": [
    {
     "data": {
      "text/plain": [
       "((5387, 14), (599, 14))"
      ]
     },
     "execution_count": 7,
     "metadata": {},
     "output_type": "execute_result"
    }
   ],
   "source": [
    "X = data_prepr.drop(['Churn'], axis=1)\n",
    "y = LabelEncoder().fit_transform(data_prepr['Churn'])\n",
    "\n",
    "X_train, X_test, y_train, y_test = train_test_split(X, y, random_state=1, test_size=0.1, stratify=y)\n",
    "skf = StratifiedKFold(random_state=1, shuffle=True)\n",
    "X_train.shape, X_test.shape"
   ]
  },
  {
   "cell_type": "markdown",
   "metadata": {
    "id": "CyRVceF75pj_"
   },
   "source": [
    "Для препроцессинга и обучения моделей использовал Pipeline.\n",
    "\n",
    "Сначала, нужно определить колонки к которым будут примены преобразования. Затем собрать ColumnTransformer, который будет преобразовывать датасет в пригодный для обучения."
   ]
  },
  {
   "cell_type": "code",
   "execution_count": 8,
   "metadata": {},
   "outputs": [
    {
     "data": {
      "text/plain": [
       "Index(['Partner', 'Dependents', 'PaperlessBilling'], dtype='object')"
      ]
     },
     "execution_count": 8,
     "metadata": {},
     "output_type": "execute_result"
    }
   ],
   "source": [
    "col = X.nunique() == 2\n",
    "two_var_col = X[col[col].index].select_dtypes(include='object').columns\n",
    "two_var_col"
   ]
  },
  {
   "cell_type": "code",
   "execution_count": 9,
   "metadata": {
    "id": "ghQ8k1W6kuro"
   },
   "outputs": [
    {
     "data": {
      "text/plain": [
       "Index(['InternetService', 'OnlineSecurity', 'OnlineBackup', 'DeviceProtection',\n",
       "       'TechSupport', 'StreamingTV', 'Contract', 'PaymentMethod'],\n",
       "      dtype='object')"
      ]
     },
     "execution_count": 9,
     "metadata": {},
     "output_type": "execute_result"
    }
   ],
   "source": [
    "col = X.nunique() > 2\n",
    "more_var_col = X[col[col].index].select_dtypes(include='object').columns\n",
    "more_var_col"
   ]
  },
  {
   "cell_type": "code",
   "execution_count": 10,
   "metadata": {
    "id": "JF-Bh3J0W-Bu"
   },
   "outputs": [],
   "source": [
    "def f(x):\n",
    "  v = np.where(x == 1, 1, 0)\n",
    "  return(v)\n",
    "\n",
    "def f1(X):\n",
    "  n = X.drop(['Partner', 'Dependents'], axis=1).eq('No').sum(axis=1)/10\n",
    "  return n.to_frame()\n",
    "\n",
    "\n",
    "ct = ColumnTransformer([('sum_no', FunctionTransformer(f1), X.columns),\n",
    "                        ('append', FunctionTransformer(f), ['tenure']),\n",
    "                        ('log', FunctionTransformer(np.log), ['MonthlyCharges']),\n",
    "                        ('num', MinMaxScaler(), ['MonthlyCharges', 'tenure']),\n",
    "                        ('two_var_col', OneHotEncoder(drop='first'), ['Partner', 'Dependents', 'PaperlessBilling']),\n",
    "                        ('more_var_col', TargetEncoder(), more_var_col)])"
   ]
  },
  {
   "cell_type": "markdown",
   "metadata": {
    "id": "4lsMH7b18hIv"
   },
   "source": [
    "Последовательно обучим несколько моделей.\n",
    "\n",
    "В данной задаче классификации нужно предсказать уйдет клиент или нет на данном этапе работы с ним. Вероятно не пропустить клиента который собрался уходить кажется более важным, чем выделить лояльных, так как привлечение новых клиентов обходиться дороже, чем удержание старых. Соответственно, из пары precision-recall более важным будет максимизировать recall.\n",
    "\n",
    "Но recall, хоть эта метрика и является более важной, нельзя оценивать отдельно от precision. Поэтому для выбора моделей с наилучшими результатами будет использоваться roc-auc. "
   ]
  },
  {
   "cell_type": "code",
   "execution_count": 64,
   "metadata": {
    "id": "7kZ12mR0-tvd"
   },
   "outputs": [],
   "source": [
    "# Оформил метрики в небольшой датафрейм \n",
    "# и создал список предсказаний для отрисовки roc_curve \n",
    "scores = pd.DataFrame(index=['precision', 'recall', 'roc_auc'])\n",
    "probes = []\n",
    "def score(y_pred_proba, name, y_test=y_test):\n",
    "  y_pred = np.where(y_pred_proba>0.5, 1, 0)\n",
    "  precision = precision_score(y_test, y_pred)\n",
    "  recall = recall_score(y_test, y_pred)\n",
    "  roc_auc = roc_auc_score(y_test, y_pred_proba)\n",
    "  scores[name] = [precision, recall, roc_auc]\n",
    "  probes.append(y_pred_proba)\n"
   ]
  },
  {
   "cell_type": "markdown",
   "metadata": {
    "id": "_AQ9UZUy7Nuf"
   },
   "source": [
    "При обучении моделей было использовано по несколько подборов с помощью GridSearch.\n",
    "В основном, сначала я перебирал варианты препроцессинга. Их было взято немного: *MinMaxScaler()* или *StandardScaler()* для числовых переменных; и попытка прологарифмировать признак MonthlyCharges (в некоторых случаях это дало небольшой прирост метрики)\n",
    "\n",
    "Далее был подбор параметров модели. В большинстве из них подбор происходил в несколько итераций. "
   ]
  },
  {
   "cell_type": "markdown",
   "metadata": {
    "id": "UP4NgcDkup9c"
   },
   "source": [
    "### Наивный байесовский классификатор"
   ]
  },
  {
   "cell_type": "code",
   "execution_count": 65,
   "metadata": {
    "colab": {
     "base_uri": "https://localhost:8080/"
    },
    "id": "t_hHgI9TuqTs",
    "outputId": "8bdb53b8-8bbb-41a4-eed3-908be05adcb5"
   },
   "outputs": [
    {
     "data": {
      "text/plain": [
       "{'ct__log': 'passthrough', 'ct__num': MinMaxScaler()}"
      ]
     },
     "execution_count": 65,
     "metadata": {},
     "output_type": "execute_result"
    }
   ],
   "source": [
    "gnb = GaussianNB()\n",
    "gnb_pipe = Pipeline(steps=[(\"ct\", ct), (\"gnb\", gnb)])\n",
    "gnb_params = {'ct__num': [MinMaxScaler()],\n",
    "              'ct__log': ['passthrough']}\n",
    "gs_gnb = GridSearchCV(gnb_pipe, gnb_params, scoring='roc_auc', cv=skf, n_jobs=2)\n",
    "gs_gnb.fit(X_train, y_train)\n",
    "gs_gnb.best_params_"
   ]
  },
  {
   "cell_type": "code",
   "execution_count": 66,
   "metadata": {
    "id": "-ZCIhfhCCPvr"
   },
   "outputs": [],
   "source": [
    "y_pred_proba_gnb = gs_gnb.predict_proba(X_test)[:,1]\n",
    "score(y_pred_proba_gnb, 'GaussianNB')"
   ]
  },
  {
   "cell_type": "markdown",
   "metadata": {
    "id": "EQGk4VRJvFhK"
   },
   "source": [
    "### Логистическая регрессия"
   ]
  },
  {
   "cell_type": "code",
   "execution_count": 67,
   "metadata": {
    "colab": {
     "base_uri": "https://localhost:8080/"
    },
    "id": "lmSrdq1ZvFq-",
    "outputId": "31727288-0daa-4d39-dc5f-56fb2b8eda1a"
   },
   "outputs": [
    {
     "data": {
      "text/plain": [
       "{'ct__log': FunctionTransformer(func=<ufunc 'log'>),\n",
       " 'ct__num': StandardScaler(),\n",
       " 'lr__C': 1,\n",
       " 'lr__class_weight': 'balansed',\n",
       " 'lr__penalty': 'l2',\n",
       " 'lr__solver': 'lbfgs'}"
      ]
     },
     "execution_count": 67,
     "metadata": {},
     "output_type": "execute_result"
    }
   ],
   "source": [
    "lr = LogisticRegression(random_state=1)\n",
    "lr_pipe = Pipeline(steps=[(\"ct\", ct), (\"lr\", lr)])\n",
    "lr_params = {'ct__num': [StandardScaler()],\n",
    "             'ct__log': [FunctionTransformer(np.log)],\n",
    "             'lr__C': [1, 0.1, 0.01],\n",
    "             'lr__penalty': ['l2'],\n",
    "             'lr__solver': ['lbfgs'],\n",
    "             'lr__class_weight': ['balansed', None]}\n",
    "gs_lr = GridSearchCV(lr_pipe, lr_params, scoring='roc_auc', cv=skf, n_jobs=2)            \n",
    "gs_lr.fit(X_train, y_train)\n",
    "gs_lr.best_params_"
   ]
  },
  {
   "cell_type": "code",
   "execution_count": 68,
   "metadata": {
    "id": "N-4hL6XODa1y"
   },
   "outputs": [],
   "source": [
    "y_pred_proba_lr = gs_lr.predict_proba(X_test)[:,1]\n",
    "score(y_pred_proba_lr, 'LogisticRegression')"
   ]
  },
  {
   "cell_type": "markdown",
   "metadata": {
    "id": "quP1s3FQWWfm"
   },
   "source": [
    "### Дерево решений"
   ]
  },
  {
   "cell_type": "code",
   "execution_count": 69,
   "metadata": {
    "colab": {
     "base_uri": "https://localhost:8080/"
    },
    "id": "OrQL2Gt2rCR_",
    "outputId": "90c48330-c477-4464-827e-d5d8180ffef5"
   },
   "outputs": [
    {
     "name": "stdout",
     "output_type": "stream",
     "text": [
      "Fitting 5 folds for each of 30 candidates, totalling 150 fits\n"
     ]
    },
    {
     "data": {
      "text/plain": [
       "{'ct__log': 'passthrough',\n",
       " 'ct__num': StandardScaler(),\n",
       " 'dtc__max_depth': 7,\n",
       " 'dtc__min_samples_leaf': 80,\n",
       " 'dtc__min_samples_split': 2}"
      ]
     },
     "execution_count": 69,
     "metadata": {},
     "output_type": "execute_result"
    }
   ],
   "source": [
    "dtc = DecisionTreeClassifier(random_state=1)\n",
    "dtc_pipe = Pipeline(steps=[(\"ct\", ct), (\"dtc\", dtc)])\n",
    "dtc_params = {'dtc__max_depth': range(5, 8),\n",
    "              'dtc__min_samples_split': range(2, 4),\n",
    "              'dtc__min_samples_leaf': range(80, 90, 2),\n",
    "              'ct__num': [StandardScaler()],\n",
    "              'ct__log': ['passthrough']}\n",
    "gs_dtc = GridSearchCV(dtc_pipe, dtc_params, cv=skf, n_jobs=2, scoring='roc_auc', verbose=1) \n",
    "\n",
    "gs_dtc.fit(X_train, y_train)\n",
    "gs_dtc.best_params_\n",
    "\n",
    "# Несколько последовательных переборов параметров привели к такому набору"
   ]
  },
  {
   "cell_type": "code",
   "execution_count": 70,
   "metadata": {
    "id": "mvdkqzOHr9Lc"
   },
   "outputs": [],
   "source": [
    "y_pred_proba_dtc = gs_dtc.predict_proba(X_test)[:,1]\n",
    "score(y_pred_proba_dtc, 'DecisionTree')"
   ]
  },
  {
   "cell_type": "markdown",
   "metadata": {
    "id": "6zTI3UUUunP6"
   },
   "source": [
    "### k ближайших соседей"
   ]
  },
  {
   "cell_type": "code",
   "execution_count": 71,
   "metadata": {
    "colab": {
     "base_uri": "https://localhost:8080/"
    },
    "id": "7WKZocqqumAU",
    "outputId": "d6143d25-63fb-4650-f2a9-38b13c205ee9"
   },
   "outputs": [
    {
     "name": "stdout",
     "output_type": "stream",
     "text": [
      "Fitting 5 folds for each of 20 candidates, totalling 100 fits\n"
     ]
    },
    {
     "data": {
      "text/plain": [
       "{'ct__log': FunctionTransformer(func=<ufunc 'log'>),\n",
       " 'ct__num': MinMaxScaler(),\n",
       " 'knn__leaf_size': 2,\n",
       " 'knn__n_neighbors': 39}"
      ]
     },
     "execution_count": 71,
     "metadata": {},
     "output_type": "execute_result"
    }
   ],
   "source": [
    "knn = KNeighborsClassifier()\n",
    "knn_pipe = Pipeline(steps=[(\"ct\", ct), (\"knn\", knn)])\n",
    "params_knn = {'knn__n_neighbors':range(35,45),\n",
    "              'knn__leaf_size':range(2,4),\n",
    "              'ct__num': [MinMaxScaler()],\n",
    "             'ct__log': [FunctionTransformer(np.log)]}\n",
    "gs_knn = GridSearchCV(knn_pipe, params_knn, cv=skf, n_jobs=2, scoring='roc_auc', verbose=1)\n",
    "\n",
    "gs_knn.fit(X_train, y_train)\n",
    "gs_knn.best_params_\n",
    "\n",
    "# Параметры KNeighborsClassifier"
   ]
  },
  {
   "cell_type": "code",
   "execution_count": 72,
   "metadata": {
    "id": "oAz95cO5ooiX"
   },
   "outputs": [],
   "source": [
    "y_pred_proba_knn = gs_knn.predict_proba(X_test)[:,1]\n",
    "score(y_pred_proba_knn, 'KNeighbors')"
   ]
  },
  {
   "cell_type": "markdown",
   "metadata": {
    "id": "T_5cfyTwv22j"
   },
   "source": [
    "### Метод опорных векторов"
   ]
  },
  {
   "cell_type": "code",
   "execution_count": 73,
   "metadata": {
    "colab": {
     "base_uri": "https://localhost:8080/"
    },
    "id": "xqbVGdfgv2_F",
    "outputId": "3d5664e1-cd14-422c-8954-8cc863862eb7"
   },
   "outputs": [
    {
     "name": "stdout",
     "output_type": "stream",
     "text": [
      "Fitting 5 folds for each of 1 candidates, totalling 5 fits\n"
     ]
    },
    {
     "data": {
      "text/plain": [
       "{'ct__log': FunctionTransformer(func=<ufunc 'log'>),\n",
       " 'ct__num': MinMaxScaler(),\n",
       " 'svc__C': 10,\n",
       " 'svc__kernel': 'linear'}"
      ]
     },
     "execution_count": 73,
     "metadata": {},
     "output_type": "execute_result"
    }
   ],
   "source": [
    "svc = SVC(probability=True, random_state=1)\n",
    "svc_pipe = Pipeline(steps=[(\"ct\", ct), (\"svc\", svc)])\n",
    "svc_params = {'svc__kernel': ['linear'],\n",
    "              'svc__C': [10],\n",
    "              'ct__num': [MinMaxScaler()],\n",
    "             'ct__log': [FunctionTransformer(np.log)]}\n",
    "gs_svc = GridSearchCV(svc_pipe, svc_params, cv=skf, n_jobs=2, scoring='roc_auc', verbose=1)\n",
    "\n",
    "gs_svc.fit(X_train, y_train)\n",
    "gs_svc.best_params_\n"
   ]
  },
  {
   "cell_type": "code",
   "execution_count": 74,
   "metadata": {
    "id": "GYESKH8Qq1VT"
   },
   "outputs": [],
   "source": [
    "y_pred_proba_svc = gs_svc.predict_proba(X_test)[:,1]\n",
    "score(y_pred_proba_svc, 'SVC')"
   ]
  },
  {
   "cell_type": "markdown",
   "metadata": {
    "id": "sNXjNYMdwFWr"
   },
   "source": [
    "### Случайный лес"
   ]
  },
  {
   "cell_type": "code",
   "execution_count": 75,
   "metadata": {
    "colab": {
     "base_uri": "https://localhost:8080/"
    },
    "id": "7rZC5W8rwO5J",
    "outputId": "9a9faf59-05b2-4e68-bbd1-4a4d3c48bc96"
   },
   "outputs": [
    {
     "name": "stdout",
     "output_type": "stream",
     "text": [
      "Fitting 5 folds for each of 10 candidates, totalling 50 fits\n"
     ]
    },
    {
     "data": {
      "text/plain": [
       "{'rfc__n_estimators': 150,\n",
       " 'rfc__min_samples_split': 7,\n",
       " 'rfc__min_samples_leaf': 12,\n",
       " 'rfc__max_depth': 8,\n",
       " 'ct__num': StandardScaler(),\n",
       " 'ct__log': 'passthrough'}"
      ]
     },
     "execution_count": 75,
     "metadata": {},
     "output_type": "execute_result"
    }
   ],
   "source": [
    "rfc = RandomForestClassifier(random_state=1)\n",
    "rfc_pipe = Pipeline(steps=[(\"ct\", ct), (\"rfc\", rfc)])\n",
    "params_rfc = {'rfc__n_estimators':range(150, 200, 10),\n",
    "              'rfc__max_depth':range(7, 15),\n",
    "              'rfc__min_samples_split':range(2, 10),\n",
    "              'rfc__min_samples_leaf': range(5, 20),\n",
    "              'ct__num': [StandardScaler()],\n",
    "              'ct__log': ['passthrough']}\n",
    "gs_rfc = RandomizedSearchCV(rfc_pipe, params_rfc, cv=skf, n_jobs=2, verbose=2, scoring='roc_auc', random_state=1)\n",
    "\n",
    "gs_rfc.fit(X_train, y_train)\n",
    "gs_rfc.best_params_"
   ]
  },
  {
   "cell_type": "code",
   "execution_count": 76,
   "metadata": {
    "id": "aAmgvI7GuOdy"
   },
   "outputs": [],
   "source": [
    "y_pred_proba_rfc = gs_rfc.predict_proba(X_test)[:,1]\n",
    "score(y_pred_proba_rfc, 'RandomForest')"
   ]
  },
  {
   "cell_type": "markdown",
   "metadata": {
    "id": "3B182Z8mwVdK"
   },
   "source": [
    "\n",
    "### Бустинг"
   ]
  },
  {
   "cell_type": "code",
   "execution_count": 77,
   "metadata": {
    "colab": {
     "base_uri": "https://localhost:8080/"
    },
    "id": "crBRwb-qKy1L",
    "outputId": "078a5cce-d442-47d3-ead0-38cdef9822e5"
   },
   "outputs": [
    {
     "data": {
      "text/plain": [
       "{'abc__base_estimator': DecisionTreeClassifier(max_depth=1),\n",
       " 'abc__learning_rate': 0.4,\n",
       " 'abc__n_estimators': 40,\n",
       " 'ct__log': FunctionTransformer(func=<ufunc 'log'>),\n",
       " 'ct__num': MinMaxScaler()}"
      ]
     },
     "execution_count": 77,
     "metadata": {},
     "output_type": "execute_result"
    }
   ],
   "source": [
    "abc = AdaBoostClassifier(random_state=1, )\n",
    "abc_pipe = Pipeline(steps=[(\"ct\", ct), (\"abc\", abc)])\n",
    "params_abc = {'abc__n_estimators':range(30, 51, 10),\n",
    "              'abc__learning_rate': [1, 0.5, 0.4, 0.3],\n",
    "              'abc__base_estimator': [DecisionTreeClassifier(max_depth=1),\n",
    "                                     DecisionTreeClassifier(max_depth=2)],\n",
    "              'ct__num': [MinMaxScaler()],\n",
    "              'ct__log': [FunctionTransformer(np.log)]}\n",
    "gs_abc = GridSearchCV(abc_pipe, params_abc, cv=skf, n_jobs=2, scoring='roc_auc')\n",
    "gs_abc.fit(X_train, y_train)\n",
    "gs_abc.best_params_"
   ]
  },
  {
   "cell_type": "code",
   "execution_count": 78,
   "metadata": {
    "id": "zv6nnm1OPnBw"
   },
   "outputs": [],
   "source": [
    "y_pred_proba_abc = gs_abc.predict_proba(X_test)[:,1]\n",
    "score(y_pred_proba_abc, 'AdaBoost')"
   ]
  },
  {
   "cell_type": "code",
   "execution_count": 79,
   "metadata": {
    "colab": {
     "base_uri": "https://localhost:8080/"
    },
    "id": "QZLOeA7Ec7CN",
    "outputId": "6d262edb-e34c-454a-ead1-5182c9894110"
   },
   "outputs": [
    {
     "name": "stdout",
     "output_type": "stream",
     "text": [
      "Fitting 5 folds for each of 8 candidates, totalling 40 fits\n"
     ]
    },
    {
     "data": {
      "text/plain": [
       "{'gbc__learning_rate': 0.05,\n",
       " 'gbc__max_depth': 2,\n",
       " 'gbc__min_samples_leaf': 5,\n",
       " 'gbc__n_estimators': 150}"
      ]
     },
     "execution_count": 79,
     "metadata": {},
     "output_type": "execute_result"
    }
   ],
   "source": [
    "gbc = GradientBoostingClassifier(max_depth=2, random_state=1, max_features='auto')\n",
    "gbc_pipe = Pipeline(steps=[(\"ct\", ct), (\"gbc\", gbc)])\n",
    "params_gbc = {'gbc__max_depth':range(2, 4),\n",
    "              'gbc__learning_rate': [0.05, 0.1],\n",
    "              'gbc__n_estimators': [150],\n",
    "              'gbc__min_samples_leaf': [3, 5]}\n",
    "gs_gbc = GridSearchCV(gbc_pipe, params_gbc, cv=skf, n_jobs=2, verbose=2, scoring='roc_auc')\n",
    "gs_gbc.fit(X_train, y_train)\n",
    "gs_gbc.best_params_"
   ]
  },
  {
   "cell_type": "code",
   "execution_count": 80,
   "metadata": {
    "id": "m2a12reLOEhu"
   },
   "outputs": [],
   "source": [
    "y_pred_proba_gbc = gs_gbc.predict_proba(X_test)[:,1]\n",
    "score(y_pred_proba_gbc, 'GradBoost')"
   ]
  },
  {
   "cell_type": "code",
   "execution_count": 81,
   "metadata": {
    "colab": {
     "base_uri": "https://localhost:8080/",
     "height": 141
    },
    "id": "_aNOBn-QCP87",
    "outputId": "5d20fa00-1ee2-4c42-9e0b-dc7a98c90827"
   },
   "outputs": [
    {
     "data": {
      "text/html": [
       "<div>\n",
       "<style scoped>\n",
       "    .dataframe tbody tr th:only-of-type {\n",
       "        vertical-align: middle;\n",
       "    }\n",
       "\n",
       "    .dataframe tbody tr th {\n",
       "        vertical-align: top;\n",
       "    }\n",
       "\n",
       "    .dataframe thead th {\n",
       "        text-align: right;\n",
       "    }\n",
       "</style>\n",
       "<table border=\"1\" class=\"dataframe\">\n",
       "  <thead>\n",
       "    <tr style=\"text-align: right;\">\n",
       "      <th></th>\n",
       "      <th>precision</th>\n",
       "      <th>recall</th>\n",
       "      <th>roc_auc</th>\n",
       "    </tr>\n",
       "  </thead>\n",
       "  <tbody>\n",
       "    <tr>\n",
       "      <th>AdaBoost</th>\n",
       "      <td>0.695652</td>\n",
       "      <td>0.503145</td>\n",
       "      <td>0.873235</td>\n",
       "    </tr>\n",
       "    <tr>\n",
       "      <th>GradBoost</th>\n",
       "      <td>0.666667</td>\n",
       "      <td>0.477987</td>\n",
       "      <td>0.872992</td>\n",
       "    </tr>\n",
       "    <tr>\n",
       "      <th>LogisticRegression</th>\n",
       "      <td>0.669492</td>\n",
       "      <td>0.496855</td>\n",
       "      <td>0.865216</td>\n",
       "    </tr>\n",
       "    <tr>\n",
       "      <th>SVC</th>\n",
       "      <td>0.709091</td>\n",
       "      <td>0.490566</td>\n",
       "      <td>0.865116</td>\n",
       "    </tr>\n",
       "    <tr>\n",
       "      <th>RandomForest</th>\n",
       "      <td>0.688679</td>\n",
       "      <td>0.459119</td>\n",
       "      <td>0.862157</td>\n",
       "    </tr>\n",
       "    <tr>\n",
       "      <th>KNeighbors</th>\n",
       "      <td>0.669492</td>\n",
       "      <td>0.496855</td>\n",
       "      <td>0.847077</td>\n",
       "    </tr>\n",
       "    <tr>\n",
       "      <th>DecisionTree</th>\n",
       "      <td>0.663717</td>\n",
       "      <td>0.471698</td>\n",
       "      <td>0.845798</td>\n",
       "    </tr>\n",
       "    <tr>\n",
       "      <th>GaussianNB</th>\n",
       "      <td>0.522822</td>\n",
       "      <td>0.792453</td>\n",
       "      <td>0.829181</td>\n",
       "    </tr>\n",
       "  </tbody>\n",
       "</table>\n",
       "</div>"
      ],
      "text/plain": [
       "                    precision    recall   roc_auc\n",
       "AdaBoost             0.695652  0.503145  0.873235\n",
       "GradBoost            0.666667  0.477987  0.872992\n",
       "LogisticRegression   0.669492  0.496855  0.865216\n",
       "SVC                  0.709091  0.490566  0.865116\n",
       "RandomForest         0.688679  0.459119  0.862157\n",
       "KNeighbors           0.669492  0.496855  0.847077\n",
       "DecisionTree         0.663717  0.471698  0.845798\n",
       "GaussianNB           0.522822  0.792453  0.829181"
      ]
     },
     "execution_count": 81,
     "metadata": {},
     "output_type": "execute_result"
    }
   ],
   "source": [
    "scores.T.sort_values('roc_auc', ascending=False)"
   ]
  },
  {
   "cell_type": "markdown",
   "metadata": {
    "id": "O8FuvpXISpy-"
   },
   "source": [
    "Самый высокий roc-auc у градиентного бустинга, логистической регрессии, и адаптивного бустинга."
   ]
  },
  {
   "cell_type": "markdown",
   "metadata": {
    "id": "cyZMDyEKP-7E"
   },
   "source": [
    "График roc-кривых для каждой модели"
   ]
  },
  {
   "cell_type": "code",
   "execution_count": 82,
   "metadata": {
    "colab": {
     "base_uri": "https://localhost:8080/",
     "height": 445
    },
    "id": "E7lI6RhBEAvq",
    "outputId": "dcb634f4-b522-427f-ebe1-cc34dd1bc4a8"
   },
   "outputs": [
    {
     "data": {
      "image/png": "[encoded data removed]",
      "text/plain": [
       "<Figure size 720x504 with 1 Axes>"
      ]
     },
     "metadata": {
      "needs_background": "light"
     },
     "output_type": "display_data"
    }
   ],
   "source": [
    "plt.figure(figsize=(10,7))\n",
    "for n, y_pred in enumerate(probes):\n",
    "  model_name = scores.columns[n]\n",
    "  fpr, tpr, _ = roc_curve(y_test, y_pred)\n",
    "  roc_auc = auc(fpr, tpr)\n",
    "  plt.plot(fpr, tpr, label = f'{model_name} roc_auc={round(roc_auc, 3)}')\n",
    "plt.legend(loc = 'lower right')\n",
    "plt.plot([0, 1], [0, 1],'r--')\n",
    "plt.xlim([0, 1])\n",
    "plt.ylim([0, 1])\n",
    "plt.ylabel('True Positive Rate')\n",
    "plt.xlabel('False Positive Rate')\n",
    "plt.show()"
   ]
  },
  {
   "cell_type": "markdown",
   "metadata": {
    "id": "uyDpeHkTVYSf"
   },
   "source": [
    "# 4. Сравнение качества моделей "
   ]
  },
  {
   "cell_type": "markdown",
   "metadata": {
    "id": "1KPN8YiaTF_q"
   },
   "source": [
    "В этом разделе попробую отрегулировать recall у трех лучших моделей изменив уверенность модели.\n",
    "\n",
    "Для этого нужно определиться какой уровень precision можно считать приемлемым.\n",
    "\n",
    "Используем precision_recall_curve"
   ]
  },
  {
   "cell_type": "code",
   "execution_count": 83,
   "metadata": {
    "id": "mryxTDJoVYSh"
   },
   "outputs": [],
   "source": [
    "from sklearn.metrics import precision_recall_curve, PrecisionRecallDisplay"
   ]
  },
  {
   "cell_type": "code",
   "execution_count": 84,
   "metadata": {
    "colab": {
     "base_uri": "https://localhost:8080/",
     "height": 427
    },
    "id": "-fdM9Xrg8iOU",
    "outputId": "de3134eb-571f-4cdf-8023-eb0c8cc389f6"
   },
   "outputs": [
    {
     "data": {
      "image/png": "[encoded data removed]",
      "text/plain": [
       "<Figure size 1800x504 with 3 Axes>"
      ]
     },
     "metadata": {
      "needs_background": "light"
     },
     "output_type": "display_data"
    }
   ],
   "source": [
    "fig, (ax_1, ax_2 ,ax_3) = plt.subplots(1, 3, figsize=(25,7))\n",
    "\n",
    "y_pred = gs_lr.predict_proba(X_test)[:,1]\n",
    "prec, recall, _ = precision_recall_curve(y_test, y_pred)\n",
    "PrecisionRecallDisplay(prec, recall).plot(ax=ax_1)\n",
    "ax_1.set_title('LogReg')\n",
    "\n",
    "y_pred = gs_abc.predict_proba(X_test)[:,1]\n",
    "prec, recall, _ = precision_recall_curve(y_test, y_pred)\n",
    "PrecisionRecallDisplay(prec, recall).plot(ax=ax_2)\n",
    "ax_2.set_title('AdaBoost')\n",
    "\n",
    "y_pred = gs_gbc.predict_proba(X_test)[:,1]\n",
    "prec, recall, _ = precision_recall_curve(y_test, y_pred)\n",
    "PrecisionRecallDisplay(prec, recall).plot(ax=ax_3)\n",
    "ax_3.set_title('GradBoost')\n",
    "\n",
    "plt.show()"
   ]
  },
  {
   "cell_type": "markdown",
   "metadata": {},
   "source": [
    "В общем, соотношение precision-recall стоит выбирать исходя из задачи. В нашем случае, я решил сравнить recall, для precision примерно равному 0.5"
   ]
  },
  {
   "cell_type": "code",
   "execution_count": 85,
   "metadata": {
    "colab": {
     "base_uri": "https://localhost:8080/"
    },
    "id": "sTOgnQqegNrI",
    "outputId": "5a3a00e0-c8ad-4b84-92ad-cb4ea68b0d95"
   },
   "outputs": [
    {
     "name": "stdout",
     "output_type": "stream",
     "text": [
      "precision = 0.5\n",
      "recall = 0.906\n",
      "treshold = 0.161\n"
     ]
    }
   ],
   "source": [
    "prec, recall, tresholds = precision_recall_curve(y_test, gs_lr.predict_proba(X_test)[:,1])\n",
    "lr_tr = np.min(tresholds[np.where((prec > 0.5) & (prec < 0.55))])\n",
    "y_pred = np.where(gs_lr.predict_proba(X_test)[:,1] > lr_tr, 1, 0)\n",
    "print(f'precision = {round(precision_score(y_test, y_pred), 3)}')\n",
    "print(f'recall = {round(recall_score(y_test, y_pred), 3)}')\n",
    "print(f'treshold = {round(lr_tr, 3)}')"
   ]
  },
  {
   "cell_type": "code",
   "execution_count": 86,
   "metadata": {
    "colab": {
     "base_uri": "https://localhost:8080/"
    },
    "id": "JzgPgyoLWHRZ",
    "outputId": "f17e51b9-a1c1-4da4-f9d6-a52e23e2c2b7"
   },
   "outputs": [
    {
     "name": "stdout",
     "output_type": "stream",
     "text": [
      "precision = 0.503\n",
      "recall = 0.918\n",
      "treshold = 0.477\n"
     ]
    }
   ],
   "source": [
    "prec, recall, tresholds = precision_recall_curve(y_test, gs_abc.predict_proba(X_test)[:,1])\n",
    "abc_tr = np.min(tresholds[np.where((prec > 0.5) & (prec < 0.55))])\n",
    "y_pred = np.where(gs_abc.predict_proba(X_test)[:,1] > abc_tr, 1, 0)\n",
    "print(f'precision = {round(precision_score(y_test, y_pred), 3)}')\n",
    "print(f'recall = {round(recall_score(y_test, y_pred), 3)}')\n",
    "print(f'treshold = {round(abc_tr, 3)}')"
   ]
  },
  {
   "cell_type": "code",
   "execution_count": 87,
   "metadata": {
    "colab": {
     "base_uri": "https://localhost:8080/"
    },
    "id": "agAkYW6QXhKM",
    "outputId": "a2a4e083-a001-4a69-ca7b-81c6587c604f"
   },
   "outputs": [
    {
     "name": "stdout",
     "output_type": "stream",
     "text": [
      "precision = 0.5\n",
      "recall = 0.925\n",
      "treshold = 0.165\n"
     ]
    }
   ],
   "source": [
    "prec, recall, tresholds = precision_recall_curve(y_test, gs_gbc.predict_proba(X_test)[:,1])\n",
    "gbc_tr = np.min(tresholds[np.where((prec > 0.5) & (prec < 0.55))])\n",
    "y_pred = np.where(gs_gbc.predict_proba(X_test)[:,1] > gbc_tr, 1, 0)\n",
    "print(f'precision = {round(precision_score(y_test, y_pred),3)}')\n",
    "print(f'recall = {round(recall_score(y_test, y_pred),3)}')\n",
    "print(f'treshold = {round(gbc_tr, 3)}')"
   ]
  },
  {
   "cell_type": "markdown",
   "metadata": {},
   "source": [
    "Максимальное значение у модели GradientBoosting = 0.925"
   ]
  },
  {
   "cell_type": "markdown",
   "metadata": {},
   "source": [
    "Cохранение моделей"
   ]
  },
  {
   "cell_type": "code",
   "execution_count": 88,
   "metadata": {
    "id": "Qlh8Oda-XhMY"
   },
   "outputs": [],
   "source": [
    "import joblib"
   ]
  },
  {
   "cell_type": "code",
   "execution_count": 89,
   "metadata": {},
   "outputs": [],
   "source": [
    "with open('lr.pkl', 'w'):\n",
    "    joblib.dump(gs_lr.best_estimator_, 'lr.pkl', compress = 1)"
   ]
  },
  {
   "cell_type": "code",
   "execution_count": 90,
   "metadata": {},
   "outputs": [],
   "source": [
    "with open('abc.pkl', 'w'):\n",
    "    joblib.dump(gs_abc.best_estimator_, 'abc.pkl', compress = 1)"
   ]
  },
  {
   "cell_type": "code",
   "execution_count": 91,
   "metadata": {
    "colab": {
     "base_uri": "https://localhost:8080/"
    },
    "id": "4Zacs--IJCi-",
    "outputId": "1f9117aa-e9bc-4304-95bc-5b067f004f22"
   },
   "outputs": [],
   "source": [
    "with open('gbc.pkl', 'w'):\n",
    "    joblib.dump(gs_gbc.best_estimator_, 'gbc.pkl', compress = 1)"
   ]
  },
  {
   "cell_type": "code",
   "execution_count": 162,
   "metadata": {
    "colab": {
     "base_uri": "https://localhost:8080/",
     "height": 16
    },
    "id": "4Cw7stFTXhSb",
    "outputId": "2ba29ce0-1b07-4fdc-f632-e57bd7defad4"
   },
   "outputs": [],
   "source": [
    "# files.download('lr.pkl') \n",
    "# files.download('abc.pkl')\n",
    "# files.download('gbc.pkl')"
   ]
  },
  {
   "cell_type": "code",
   "execution_count": 6,
   "metadata": {},
   "outputs": [
    {
     "data": {
      "text/plain": [
       "'1.0.1'"
      ]
     },
     "execution_count": 6,
     "metadata": {},
     "output_type": "execute_result"
    }
   ],
   "source": [
    "import sklearn\n",
    "sklearn. __version__"
   ]
  },
  {
   "cell_type": "markdown",
   "metadata": {
    "id": "kmJz-ZcSXhaq"
   },
   "source": [
    "Для проверки полученных моделей можно использовать ячейку ниже:\n",
    "- Нужно указать путь к файлу с датасетом, и к файлам с моделями\n",
    "- В работе моделей используется сторонняя библиотека category_encoders\n",
    "- При создании моделей использовалась версия sklearn 1.0.1\n",
    "\n",
    "В результате в выводе ячейки будет выведено значение roc-auc для каждой модели."
   ]
  },
  {
   "cell_type": "code",
   "execution_count": 8,
   "metadata": {
    "colab": {
     "base_uri": "https://localhost:8080/",
     "height": 196
    },
    "id": "pVaUiUxpWk-H",
    "outputId": "41f434c7-851c-4705-abc4-7586b97e0726"
   },
   "outputs": [
    {
     "name": "stdout",
     "output_type": "stream",
     "text": [
      "LogReg, roc_auc = 0.8573295454545454\n",
      "AdaBoost, roc_auc = 0.8696022727272728\n",
      "GradBoost, roc_auc = 0.8755681818181819\n"
     ]
    }
   ],
   "source": [
    " #путь к файлу\n",
    "file_name = 'telecom_users.csv'\n",
    "# путь к сохраненным моделям\n",
    "lr_path = 'lr.pkl'\n",
    "abc_path = 'abc.pkl'\n",
    "gbc_path = 'gbc.pkl'\n",
    "\n",
    "\n",
    "import pandas as pd\n",
    "import numpy as np\n",
    "import joblib\n",
    "from sklearn.linear_model import LogisticRegressionCV\n",
    "from sklearn.ensemble import AdaBoostClassifier\n",
    "from sklearn.model_selection import GridSearchCV\n",
    "from sklearn.metrics import roc_auc_score, precision_score, recall_score\n",
    "from sklearn.preprocessing import MinMaxScaler, LabelEncoder, StandardScaler\n",
    "from category_encoders import TargetEncoder \n",
    "lab_encoder = LabelEncoder()\n",
    "standard_scaler = StandardScaler()\n",
    "min_max = MinMaxScaler()\n",
    "\n",
    "\n",
    "data = pd.read_csv(file_name, index_col=0)\n",
    "data = data.head(300)\n",
    "\n",
    "data.drop(['customerID', 'gender', 'PhoneService', 'TotalCharges', \n",
    "                 'MultipleLines', 'StreamingMovies'], axis=1, inplace=True)\n",
    "X = data.drop(['Churn'], axis=1)\n",
    "y = LabelEncoder().fit_transform(data['Churn'])\n",
    "\n",
    "\n",
    "def f(x):\n",
    "  v = np.where(x == 1, 1, 0)\n",
    "  return(v)\n",
    "def f1(X):\n",
    "  n = X.drop(['Partner', 'Dependents'], axis=1).eq('No').sum(axis=1)\n",
    "  return n.to_frame()\n",
    "\n",
    "\n",
    "lr = joblib.load(lr_path)\n",
    "y_pred_proba_lr = lr.predict_proba(X)[:,1]\n",
    "print(f'LogReg, roc_auc = {roc_auc_score(y, y_pred_proba_lr)}')\n",
    "\n",
    "abc = joblib.load(abc_path)\n",
    "y_pred_proba_adc = abc.predict_proba(X)[:,1]\n",
    "print(f'AdaBoost, roc_auc = {roc_auc_score(y, y_pred_proba_adc)}')\n",
    "\n",
    "gbc = joblib.load(gbc_path)\n",
    "y_pred_proba_gbc = gbc.predict_proba(X)[:,1]\n",
    "print(f'GradBoost, roc_auc = {roc_auc_score(y, y_pred_proba_gbc)}')\n",
    "\n",
    "#Проверка на работоспособность с набором из 300 строк исходного датасета"
   ]
  },
  {
   "cell_type": "code",
   "execution_count": null,
   "metadata": {},
   "outputs": [],
   "source": []
  }
 ],
 "metadata": {
  "colab": {
   "collapsed_sections": [
    "uZY64JwzVYR6"
   ],
   "name": "\"Coursework_ML.ipynb\"",
   "provenance": []
  },
  "kernelspec": {
   "display_name": "Python 3",
   "language": "python",
   "name": "python3"
  },
  "language_info": {
   "codemirror_mode": {
    "name": "ipython",
    "version": 3
   },
   "file_extension": ".py",
   "mimetype": "text/x-python",
   "name": "python",
   "nbconvert_exporter": "python",
   "pygments_lexer": "ipython3",
   "version": "3.8.5"
  }
 },
 "nbformat": 4,
 "nbformat_minor": 1
}
